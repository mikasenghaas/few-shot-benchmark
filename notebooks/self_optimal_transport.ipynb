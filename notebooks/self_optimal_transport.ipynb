{
 "cells": [
  {
   "cell_type": "code",
   "execution_count": 1,
   "id": "initial_id",
   "metadata": {
    "collapsed": true,
    "ExecuteTime": {
     "end_time": "2023-11-28T09:45:26.707868Z",
     "start_time": "2023-11-28T09:45:25.668289Z"
    }
   },
   "outputs": [],
   "source": [
    "import torch\n",
    "import numpy as np\n",
    "import matplotlib.pyplot as plt\n",
    "from methods.self_optimal_transport import SOT, log_sinkhorn\n",
    "\n",
    "%reload_ext autoreload\n",
    "%autoreload 2"
   ]
  },
  {
   "cell_type": "markdown",
   "source": [
    "# Self-Optimal Transport (SOT)\n",
    "\n",
    "SOT can be used for tasks like clustering, anomaly detection, or feature extraction in machine learning. By understanding the internal structure of the data set in terms of how each point relates to others, one can derive meaningful insights or improve the performance of predictive models.\n",
    "\n",
    "![SOT workflow](../images/sot_workflow.png)\n",
    "\n",
    "### Terms\n",
    "__Optimal Transport (OT)__\n",
    "OT is a mathematical theory that deals with the problem of transforming one probability distribution into another in the most efficient way possible. The \"self\" in Self-Optimal Transport means that we have only one distribution.\n",
    "\n",
    "![optimal_transport_matrix](../images/optimal_transport_matrix.png)\n",
    "\n",
    "Think of two separate distributions as two different ways of allocating a certain quantity of mass. For instance, one distribution could represent the locations of various warehouses (each with a certain amount of goods), and the other could represent the locations of stores that need those goods. The term \"mass\" can be abstract in OT. It could represent probability, density, or any quantity that can be redistributed. The aim is to find the best way to move this mass from the \"warehouse\" distribution to the \"store\" distribution.\n",
    "\n",
    "__Cost Matrix__\n",
    "To determine what 'best' means, we define a cost matrix that specifies the cost of moving a unit of mass from any point in the first distribution to any point in the second. This cost can be calculated using different metrics (Euclidean or cosine distances in our case). The choice of metric depends on the nature of the data and the specific application.\n",
    "\n",
    "__Sinkhorn Algorithm__\n",
    "The Sinkhorn algorithm is used for efficiently solving the Optimal Transport problem, especially when the cost matrix is large. It iterates to find the transport plan that minimizes the overall cost of moving from the initial distribution to the target distribution.\n",
    "\n",
    "It is used to compute an optimal _transport plan_ which is represented as a matrix where each entry corresponds to the amount of mass to move from a point in the first distribution to a point in the second distribution. (row is a supply point and column is a demand point) \n",
    "The transport plan is considered _optimal_ when it minimizes the total cost of moving all the mass from the first distribution to satisfy the demands of the second distribution.\n",
    "\n",
    "It is an iterative procedure that adjusts the elements of a matrix to make its rows and columns sum up to specified target vectors (usually probability distributions). The `log_sinkhorn` (used in code) is a variant that operates in log-space for improved numerical stability, especially when dealing with very small or very large numbers.\n",
    "TODO go into the math [possible resource](https://personal.math.ubc.ca/~geoff/courses/W2019T1/Lecture13.pdf)\n",
    "\n"
   ],
   "metadata": {
    "collapsed": false
   },
   "id": "44af6e84c7f347ac"
  },
  {
   "cell_type": "markdown",
   "source": [
    "Let's go throught the code of SOT. The algorithm for computing SOT of feature matrix $V$ goes like this:"
   ],
   "metadata": {
    "collapsed": false
   },
   "id": "ff9739c0f160f185"
  },
  {
   "cell_type": "code",
   "execution_count": 2,
   "outputs": [],
   "source": [
    "def __call__(self, X: torch.Tensor) -> torch.Tensor: # sot()\n",
    "    \"\"\"\n",
    "    Compute the SOT features for X\n",
    "    \"\"\"\n",
    "    # get masked cost matrix\n",
    "    C = self.compute_cost(X=X)\n",
    "    M = self.mask_diagonal(C, value=self.diagonal_val)\n",
    "\n",
    "    # compute self-OT\n",
    "    z_log = log_sinkhorn(M=M, reg=self.ot_reg, num_iters=self.sinkhorn_iterations)\n",
    "\n",
    "    if self.sigmoid:\n",
    "        z = torch.sigmoid(z_log)\n",
    "    else:\n",
    "        z = torch.exp(z_log)\n",
    "\n",
    "    # divide the SOT matrix by its max to scale it up\n",
    "    if self.max_scale:\n",
    "        z_max = z.max().item() if z.dim() <= 2 else z.amax(dim=(1, 2), keepdim=True)\n",
    "        z = z / z_max\n",
    "\n",
    "    # set self-values to 1\n",
    "    return self.mask_diagonal(z, value=1)"
   ],
   "metadata": {
    "collapsed": false,
    "ExecuteTime": {
     "end_time": "2023-11-28T09:45:26.726959Z",
     "start_time": "2023-11-28T09:45:26.711048Z"
    }
   },
   "id": "169f0de21137b140"
  },
  {
   "cell_type": "markdown",
   "source": [
    "1. **Compute Cost Matrix** (`C`):\n",
    "    The compute_cost function is called with the input tensor `X` to calculate the pairwise cost matrix `C`. This matrix represents the cost of \"transporting\" each feature in X to every other feature, according to the specified distance metric (e.g., Euclidean or cosine distance) normalized to `[0,1]`.\n",
    "2. **Mask Diagonal** (`M`):\n",
    "    The diagonal of the cost matrix `C` is then masked by setting the diagonal values to `self.diagonal_val`, which is typically a large value, using the mask_diagonal function. This discourages the algorithm from trivially transporting features to themselves in the optimization process.\n",
    "3. **Compute Self-Optimal Transport** (`z_log`):\n",
    "    The `log_sinkhorn` function is called with the masked cost matrix `M` to compute the Self-Optimal Transport plan in the log domain. This function iteratively adjusts the transport plan to minimize the overall cost, as constrained by the marginal distributions, resulting in a matrix `z_log` that represents the log domain solution to the OT problem.\n",
    "\n",
    "\n",
    "4. **Apply Sigmoid or Exponential Function**:\n",
    "    Depending on whether the sigmoid flag is set, the algorithm either applies the sigmoid function to `z_log` or exponentiates `z_log`. If sigmoid is true, `z = torch.sigmoid(z_log)` is used, effectively squashing the values to be between `0` and `1`. If sigmoid is false, `z = torch.exp(z_log)` is used, which converts the log probabilities back to a standard probability scale.\n",
    "\n",
    "5. **Normalize the SOT Matrix**:\n",
    "    If `self.max_scale` is true, the algorithm scales the entire SOT matrix z by dividing it by its maximum value. This is done to ensure that the values of `z` are in the range `[0, 1]`, which can be important for numerical stability and interpretability.\n",
    "\n",
    "6. **Set Diagonal Values to 1**:\n",
    "    Finally, the `mask_diagonal` function is used again to set the diagonal values of `z` to `1`. \n",
    "    Setting the diagonal entries of the SOT matrix to one after the Sinkhorn iterations is a form of normalization that reflects the notion of self-similarity, because each point is perfectly similar to itself. This step is commonly performed when the similarity matrix is intended to be used for further analysis or learning tasks where such an assumption is standard.\n",
    "    TODO discuss why is it important for us\n",
    "\n",
    "7. **Return the SOT Features**:\n",
    "    The resulting tensor `z` is returned. It contains the SOT features for `X`, which now encode the pairwise similarities between the features in a way that has been optimized according to the transport plan.\n"
   ],
   "metadata": {
    "collapsed": false
   },
   "id": "e49d4ca8ebfcb68"
  },
  {
   "cell_type": "code",
   "execution_count": 3,
   "outputs": [],
   "source": [
    "sot = SOT(distance_metric='cosine', ot_reg=0.1, sinkhorn_iterations=10, sigmoid=False, mask_diag=True, max_scale=True) # defaults"
   ],
   "metadata": {
    "collapsed": false,
    "ExecuteTime": {
     "end_time": "2023-11-28T09:45:26.741180Z",
     "start_time": "2023-11-28T09:45:26.727144Z"
    }
   },
   "id": "9be78f2bfe9229be"
  },
  {
   "cell_type": "code",
   "execution_count": 4,
   "outputs": [
    {
     "data": {
      "text/plain": "tensor([[0.4190, 0.0774],\n        [0.2806, 0.0752],\n        [0.3829, 0.7495],\n        [0.4001, 0.6235],\n        [0.9036, 0.0804],\n        [0.6210, 0.5619],\n        [0.0669, 0.9702],\n        [0.7102, 0.0781],\n        [0.4774, 0.5360],\n        [0.9750, 0.8962]])"
     },
     "execution_count": 4,
     "metadata": {},
     "output_type": "execute_result"
    }
   ],
   "source": [
    "n = 10 # number of features\n",
    "d = 2  # dimension of features\n",
    "\n",
    "V = torch.rand(n, d)  # features matrix\n",
    "V"
   ],
   "metadata": {
    "collapsed": false,
    "ExecuteTime": {
     "end_time": "2023-11-28T09:45:26.766397Z",
     "start_time": "2023-11-28T09:45:26.741303Z"
    }
   },
   "id": "d8f7f0aed74691e6"
  },
  {
   "cell_type": "code",
   "execution_count": 5,
   "outputs": [
    {
     "data": {
      "text/plain": "<matplotlib.image.AxesImage at 0x16af780d0>"
     },
     "execution_count": 5,
     "metadata": {},
     "output_type": "execute_result"
    },
    {
     "data": {
      "text/plain": "<Figure size 640x480 with 1 Axes>",
      "image/png": "[encoded data removed]"
     },
     "metadata": {},
     "output_type": "display_data"
    }
   ],
   "source": [
    "# compute the cost matrix\n",
    "C = sot.compute_cost(V)\n",
    "C_copy = C.clone()\n",
    "plt.imshow(C.detach())"
   ],
   "metadata": {
    "collapsed": false,
    "ExecuteTime": {
     "end_time": "2023-11-28T09:45:26.888720Z",
     "start_time": "2023-11-28T09:45:26.768519Z"
    }
   },
   "id": "a2f572195fe3ae00"
  },
  {
   "cell_type": "code",
   "execution_count": 6,
   "outputs": [
    {
     "data": {
      "text/plain": "<matplotlib.image.AxesImage at 0x16b0594e0>"
     },
     "execution_count": 6,
     "metadata": {},
     "output_type": "execute_result"
    },
    {
     "data": {
      "text/plain": "<Figure size 640x480 with 1 Axes>",
      "image/png": "[encoded data removed]"
     },
     "metadata": {},
     "output_type": "display_data"
    }
   ],
   "source": [
    "# mask diagonal \n",
    "M = sot.mask_diagonal(C,value=sot.diagonal_val)\n",
    "plt.imshow(M.detach())"
   ],
   "metadata": {
    "collapsed": false,
    "ExecuteTime": {
     "end_time": "2023-11-28T09:45:27.030398Z",
     "start_time": "2023-11-28T09:45:26.889461Z"
    }
   },
   "id": "c79bbe43620097b1"
  },
  {
   "cell_type": "code",
   "execution_count": 7,
   "outputs": [
    {
     "name": "stdout",
     "output_type": "stream",
     "text": [
      "n_way:1\n",
      "n_support:5\n",
      "n_query:5\n"
     ]
    },
    {
     "ename": "AttributeError",
     "evalue": "'SOT' object has no attribute 'mask_support_query'",
     "output_type": "error",
     "traceback": [
      "\u001B[0;31m---------------------------------------------------------------------------\u001B[0m",
      "\u001B[0;31mAttributeError\u001B[0m                            Traceback (most recent call last)",
      "Cell \u001B[0;32mIn[7], line 6\u001B[0m\n\u001B[1;32m      4\u001B[0m sot\u001B[38;5;241m.\u001B[39mn_query \u001B[38;5;241m=\u001B[39m n \u001B[38;5;241m-\u001B[39m sot\u001B[38;5;241m.\u001B[39mn_support\n\u001B[1;32m      5\u001B[0m \u001B[38;5;28mprint\u001B[39m(\u001B[38;5;124mf\u001B[39m\u001B[38;5;124m\"\u001B[39m\u001B[38;5;124mn_way:\u001B[39m\u001B[38;5;132;01m{\u001B[39;00msot\u001B[38;5;241m.\u001B[39mn_way\u001B[38;5;132;01m}\u001B[39;00m\u001B[38;5;130;01m\\n\u001B[39;00m\u001B[38;5;124mn_support:\u001B[39m\u001B[38;5;132;01m{\u001B[39;00msot\u001B[38;5;241m.\u001B[39mn_support\u001B[38;5;132;01m}\u001B[39;00m\u001B[38;5;130;01m\\n\u001B[39;00m\u001B[38;5;124mn_query:\u001B[39m\u001B[38;5;132;01m{\u001B[39;00msot\u001B[38;5;241m.\u001B[39mn_query\u001B[38;5;132;01m}\u001B[39;00m\u001B[38;5;124m\"\u001B[39m)\n\u001B[0;32m----> 6\u001B[0m M_masked \u001B[38;5;241m=\u001B[39m \u001B[43msot\u001B[49m\u001B[38;5;241;43m.\u001B[39;49m\u001B[43mmask_support_query\u001B[49m(M, value\u001B[38;5;241m=\u001B[39mtorch\u001B[38;5;241m.\u001B[39minf)\n\u001B[1;32m      7\u001B[0m plt\u001B[38;5;241m.\u001B[39mimshow(M_masked)\n",
      "\u001B[0;31mAttributeError\u001B[0m: 'SOT' object has no attribute 'mask_support_query'"
     ]
    }
   ],
   "source": [
    "# mask query-support interactions\n",
    "sot.n_way = 1\n",
    "sot.n_support = n//2\n",
    "sot.n_query = n - sot.n_support\n",
    "print(f\"n_way:{sot.n_way}\\nn_support:{sot.n_support}\\nn_query:{sot.n_query}\")\n",
    "M_masked = sot.mask_support_query(M, value=torch.inf)\n",
    "plt.imshow(M_masked)"
   ],
   "metadata": {
    "collapsed": false,
    "ExecuteTime": {
     "end_time": "2023-11-28T09:45:27.248169Z",
     "start_time": "2023-11-28T09:45:27.026298Z"
    }
   },
   "id": "64e5d9418f2be001"
  },
  {
   "cell_type": "code",
   "execution_count": null,
   "outputs": [],
   "source": [
    "# compute the self-optimal transport in log domain using sinkhorns' algorithm\n",
    "z_log = log_sinkhorn(M=M, reg=sot.ot_reg, num_iters=1000)\n",
    "# sigmoid or exponenital\n",
    "z_sig = torch.sigmoid(z_log)\n",
    "z_exp = torch.exp(z_log) #default\n",
    "\n",
    "fig,axs= plt.subplots(1,4,figsize=(15,5))\n",
    "cax1 = axs[0].imshow(C_copy)\n",
    "axs[0].set_title('cost matrix')\n",
    "fig.colorbar(cax1, ax=axs[0],shrink=0.5)\n",
    "\n",
    "cax2 = axs[1].imshow(z_sig)\n",
    "axs[1].set_title('sigmoid of z_log')\n",
    "fig.colorbar(cax2, ax=axs[1],shrink=0.5)\n",
    "\n",
    "cax3 = axs[2].imshow(z_exp)\n",
    "fig.colorbar(cax3, ax=axs[2],shrink=0.5)\n",
    "axs[2].set_title('exponential of z_log')\n",
    "\n",
    "# scale (default behaviour) if sot.max_scale\n",
    "z = z_exp # default\n",
    "z_max = z.max().item() if z.dim() <= 2 else z.amax(dim=(1, 2), keepdim=True)\n",
    "z = z / z_max\n",
    "cax4 = axs[3].imshow(z)\n",
    "fig.colorbar(cax4, ax=axs[3],shrink=0.5)\n",
    "axs[3].set_title('scaled exponential of z_log')"
   ],
   "metadata": {
    "collapsed": false,
    "ExecuteTime": {
     "start_time": "2023-11-28T09:45:27.245094Z"
    }
   },
   "id": "1e5a63e772edf3aa"
  },
  {
   "cell_type": "code",
   "execution_count": null,
   "outputs": [],
   "source": [
    "# set diagonal to one\n",
    "out1 = sot.mask_diagonal(z, value=1)\n",
    "out2 = sot(V)\n",
    "print(f\"equal:{np.array_equal(out1,out2)}\\nclose:{np.allclose(out1,out2)}\\ndiff:{(out1-out2).abs().sum():.6}\")"
   ],
   "metadata": {
    "collapsed": false,
    "ExecuteTime": {
     "start_time": "2023-11-28T09:45:27.246851Z"
    }
   },
   "id": "a8564f6bc71f8f92"
  },
  {
   "cell_type": "markdown",
   "source": [
    "Let's see how SOT works on a simple example. We will generate a `n` feature vecotors of dimension `d` from `k` different normal distributions. We will then compute the SOT features and visualize them using PCA."
   ],
   "metadata": {
    "collapsed": false
   },
   "id": "6aa9f898859de5c1"
  },
  {
   "cell_type": "code",
   "execution_count": null,
   "outputs": [],
   "source": [
    "def generate_clusters(n, d, mus, sigmas):\n",
    "    assert len(mus) == len(sigmas), \"mus and sigmas must have the same length\"\n",
    "    assert n % len(mus) == 0, \"n must be divisible by number of clusters (len(mus))\"\n",
    "    X = torch.empty((n, d))\n",
    "    y = torch.empty(n)\n",
    "    for i, (mu, sigma) in enumerate(zip(mus, sigmas)):\n",
    "        start_index = i * n // len(mus)\n",
    "        end_index = (i + 1) * n // len(mus)\n",
    "        for j in range(d):\n",
    "            mu_j = mu[j]\n",
    "            sigma_j = sigma[j]\n",
    "            X[start_index:end_index, j] = torch.normal(mu_j, sigma_j, (n // len(mus),))\n",
    "        y[start_index:end_index] = i\n",
    "    # normalize X to be unit norm\n",
    "    X = X / X.norm(dim=1, keepdim=True)\n",
    "    return X, y\n",
    "\n",
    "# Example usage\n",
    "\n",
    "d = 1000   # Dimension of each vector\n",
    "k = 10   # Number of clusters\n",
    "n = k*100  # Total number of feature vectors\n",
    "mus = torch.rand(k, d)  # Means for the clusters\n",
    "sigmas = torch.rand(k, d)  # Standard deviations for the clusters\n",
    "\n",
    "X, y = generate_clusters(n, d, mus, sigmas)\n",
    "print(f\"X shape: {X.shape}\\ny shape: {y.shape}\")"
   ],
   "metadata": {
    "collapsed": false,
    "ExecuteTime": {
     "end_time": "2023-11-28T09:45:27.248659Z",
     "start_time": "2023-11-28T09:45:27.248284Z"
    }
   },
   "id": "1fcd9b522a6adccf"
  },
  {
   "cell_type": "code",
   "execution_count": null,
   "outputs": [],
   "source": [
    "from sklearn.decomposition import PCA\n",
    "\n",
    "sot = SOT(distance_metric='cosine', ot_reg=0.1, sinkhorn_iterations=10, sigmoid=False, mask_diag=True, max_scale=True) # defaults\n",
    "pca = PCA(n_components=2)\n",
    "\n",
    "a = pca.fit_transform(X)\n",
    "b = pca.fit_transform(sot(X))\n",
    "\n",
    "fig, axs = plt.subplots(1,2,figsize=(10,5))\n",
    "axs[0].scatter(a[:,0],a[:,1],c=y, cmap='tab10')\n",
    "axs[1].scatter(b[:,0],b[:,1],c=y, cmap='tab10')"
   ],
   "metadata": {
    "collapsed": false,
    "ExecuteTime": {
     "start_time": "2023-11-28T09:45:27.249411Z"
    }
   },
   "id": "618a0db417ab1e69"
  },
  {
   "cell_type": "markdown",
   "source": [
    "## Runnig the sot in our models\n",
    "\n",
    "The main problem with integrating sot into our models is that output's dimenesion (dimension of output feature vectors) depends on the number of features in the input. \n",
    "\n",
    "As discussed in `notebooks.methods` input to the model is a tensor of shape `(n_way, n_support + n_query, hidden_dim)` but we flatten it to `(n_way * (n_support + n_query), hidden_dim)` before passing it to the feature extractor. This means that the feature extractor must output a tensor of shape `(n_way * (n_support + n_query), output_dim)` where `output_dim` is the dimension of the output feature vectors."
   ],
   "metadata": {
    "collapsed": false
   },
   "id": "e0861000a141dd9f"
  },
  {
   "cell_type": "markdown",
   "source": [],
   "metadata": {
    "collapsed": false
   },
   "id": "e9d9bf490df5ad66"
  }
 ],
 "metadata": {
  "kernelspec": {
   "display_name": "Python 3",
   "language": "python",
   "name": "python3"
  },
  "language_info": {
   "codemirror_mode": {
    "name": "ipython",
    "version": 2
   },
   "file_extension": ".py",
   "mimetype": "text/x-python",
   "name": "python",
   "nbconvert_exporter": "python",
   "pygments_lexer": "ipython2",
   "version": "2.7.6"
  }
 },
 "nbformat": 4,
 "nbformat_minor": 5
}
