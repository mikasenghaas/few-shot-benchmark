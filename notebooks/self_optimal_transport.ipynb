{
 "cells": [
  {
   "cell_type": "code",
   "execution_count": 5,
   "id": "initial_id",
   "metadata": {
    "collapsed": true,
    "ExecuteTime": {
     "end_time": "2023-11-25T10:48:18.870732Z",
     "start_time": "2023-11-25T10:48:18.584769Z"
    }
   },
   "outputs": [],
   "source": [
    "import torch\n",
    "import matplotlib.pyplot as plt\n",
    "from methods.self_optimal_transport import SOT, log_sinkhorn\n",
    "\n",
    "%reload_ext autoreload\n",
    "%autoreload 2"
   ]
  },
  {
   "cell_type": "markdown",
   "source": [
    "# Self-Optimal Transport (SOT)\n",
    "\n",
    "SOT can be used for tasks like clustering, anomaly detection, or feature extraction in machine learning. By understanding the internal structure of the data set in terms of how each point relates to others, one can derive meaningful insights or improve the performance of predictive models.\n",
    "\n",
    "![SOT workflow](../images/sot_workflow.png)\n",
    "\n",
    "### Terms\n",
    "__Optimal Transport (OT)__\n",
    "OT is a mathematical theory that deals with the problem of transforming one probability distribution into another in the most efficient way possible. The \"self\" in Self-Optimal Transport means that we have only one distribution.\n",
    "\n",
    "![optimal_transport_matrix](../images/optimal_transport_matrix.png)\n",
    "\n",
    "Think of two separate distributions as two different ways of allocating a certain quantity of mass. For instance, one distribution could represent the locations of various warehouses (each with a certain amount of goods), and the other could represent the locations of stores that need those goods. The term \"mass\" can be abstract in OT. It could represent probability, density, or any quantity that can be redistributed. The aim is to find the best way to move this mass from the \"warehouse\" distribution to the \"store\" distribution.\n",
    "\n",
    "__Cost Matrix__\n",
    "To determine what 'best' means, we define a cost matrix that specifies the cost of moving a unit of mass from any point in the first distribution to any point in the second. This cost can be calculated using different metrics (Euclidean or cosine distances in our case). The choice of metric depends on the nature of the data and the specific application.\n",
    "\n",
    "__Sinkhorn Algorithm__\n",
    "The Sinkhorn algorithm is used for efficiently solving the Optimal Transport problem, especially when the cost matrix is large. It iterates to find the transport plan that minimizes the overall cost of moving from the initial distribution to the target distribution.\n",
    "\n",
    "It is used to compute an optimal _transport plan_ which is represented as a matrix where each entry corresponds to the amount of mass to move from a point in the first distribution to a point in the second distribution. (row is a supply point and column is a demand point) \n",
    "The transport plan is considered _optimal_ when it minimizes the total cost of moving all the mass from the first distribution to satisfy the demands of the second distribution.\n",
    "\n",
    "It is an iterative procedure that adjusts the elements of a matrix to make its rows and columns sum up to specified target vectors (usually probability distributions). The `log_sinkhorn` (used in code) is a variant that operates in log-space for improved numerical stability, especially when dealing with very small or very large numbers.\n",
    "TODO go into the math [possible resource](https://personal.math.ubc.ca/~geoff/courses/W2019T1/Lecture13.pdf)\n",
    "\n"
   ],
   "metadata": {
    "collapsed": false
   },
   "id": "44af6e84c7f347ac"
  },
  {
   "cell_type": "markdown",
   "source": [
    "Let's go throught the code of SOT. The algorithm for computing SOT of feature matrix $V$ goes like this:"
   ],
   "metadata": {
    "collapsed": false
   },
   "id": "ff9739c0f160f185"
  },
  {
   "cell_type": "code",
   "execution_count": null,
   "outputs": [],
   "source": [
    "def __call__(self, X: torch.Tensor) -> torch.Tensor: # sot()\n",
    "    \"\"\"\n",
    "    Compute the SOT features for X\n",
    "    \"\"\"\n",
    "    # get masked cost matrix\n",
    "    C = self.compute_cost(X=X)\n",
    "    M = self.mask_diagonal(C, value=self.diagonal_val)\n",
    "\n",
    "    # compute self-OT\n",
    "    z_log = log_sinkhorn(M=M, reg=self.ot_reg, num_iters=self.sinkhorn_iterations)\n",
    "\n",
    "    if self.sigmoid:\n",
    "        z = torch.sigmoid(z_log)\n",
    "    else:\n",
    "        z = torch.exp(z_log)\n",
    "\n",
    "    # divide the SOT matrix by its max to scale it up\n",
    "    if self.max_scale:\n",
    "        z_max = z.max().item() if z.dim() <= 2 else z.amax(dim=(1, 2), keepdim=True)\n",
    "        z = z / z_max\n",
    "\n",
    "    # set self-values to 1\n",
    "    return self.mask_diagonal(z, value=1)"
   ],
   "metadata": {
    "collapsed": false
   },
   "id": "169f0de21137b140"
  },
  {
   "cell_type": "markdown",
   "source": [
    "1. **Compute Cost Matrix** (`C`):\n",
    "    The compute_cost function is called with the input tensor `X` to calculate the pairwise cost matrix `C`. This matrix represents the cost of \"transporting\" each feature in X to every other feature, according to the specified distance metric (e.g., Euclidean or cosine distance) normalized to [0,1].\n",
    "2. **Mask Diagonal** (`M`):\n",
    "    The diagonal of the cost matrix `C` is then masked by setting the diagonal values to `self.diagonal_val`, which is typically a large value, using the mask_diagonal function. This discourages the algorithm from trivially transporting features to themselves in the optimization process.\n",
    "3. **Compute Self-Optimal Transport** (`z_log`):\n",
    "    The `log_sinkhorn` function is called with the masked cost matrix `M` to compute the Self-Optimal Transport plan in the log domain. This function iteratively adjusts the transport plan to minimize the overall cost, as constrained by the marginal distributions, resulting in a matrix `z_log` that represents the log domain solution to the OT problem.\n",
    "\n",
    "\n",
    "4. **Apply Sigmoid or Exponential Function**:\n",
    "    Depending on whether the sigmoid flag is set, the algorithm either applies the sigmoid function to `z_log` or exponentiates `z_log`. If sigmoid is true, `z = torch.sigmoid(z_log)` is used, effectively squashing the values to be between 0 and 1. If sigmoid is false, `z = torch.exp(z_log)` is used, which converts the log probabilities back to a standard probability scale.\n",
    "\n",
    "5. **Normalize the SOT Matrix**:\n",
    "    If `self.max_scale` is true, the algorithm scales the entire SOT matrix z by dividing it by its maximum value. This is done to ensure that the values of `z` are in the range [0, 1], which can be important for numerical stability and interpretability.\n",
    "\n",
    "6. **Set Diagonal Values to 1**:\n",
    "    Finally, the `mask_diagonal` function is used again to set the diagonal values of `z` to `1`. \n",
    "    Setting the diagonal entries of the SOT matrix to one after the Sinkhorn iterations is a form of normalization that reflects the notion of self-similarity, because each point is perfectly similar to itself. This step is commonly performed when the similarity matrix is intended to be used for further analysis or learning tasks where such an assumption is standard.\n",
    "    TODO discuss why is it important for us\n",
    "\n",
    "7. **Return the SOT Features**:\n",
    "    The resulting tensor `z` is returned. It contains the SOT features for `X`, which now encode the pairwise similarities between the features in a way that has been optimized according to the transport plan.\n",
    "   "
   ],
   "metadata": {
    "collapsed": false
   },
   "id": "e49d4ca8ebfcb68"
  },
  {
   "cell_type": "code",
   "execution_count": 6,
   "outputs": [],
   "source": [
    "sot = SOT(distance_metric='cosine', ot_reg=0.1, sinkhorn_iterations=10, sigmoid=False, mask_diag=True, max_scale=True) # defaults"
   ],
   "metadata": {
    "collapsed": false,
    "ExecuteTime": {
     "end_time": "2023-11-25T10:48:23.605200Z",
     "start_time": "2023-11-25T10:48:23.574550Z"
    }
   },
   "id": "9be78f2bfe9229be"
  },
  {
   "cell_type": "code",
   "execution_count": 4,
   "outputs": [
    {
     "data": {
      "text/plain": "tensor([[0.1852, 0.5274],\n        [0.1763, 0.9658],\n        [0.9831, 0.1565],\n        [0.7552, 0.6074],\n        [0.9753, 0.5903],\n        [0.4946, 0.1350],\n        [0.1162, 0.7505],\n        [0.6857, 0.1707],\n        [0.5968, 0.2498],\n        [0.5734, 0.3337]])"
     },
     "execution_count": 4,
     "metadata": {},
     "output_type": "execute_result"
    }
   ],
   "source": [
    "n = 10 # number of features\n",
    "d = 2  # dimension of features\n",
    "\n",
    "V = torch.rand(n, d)  # features matrix\n",
    "V"
   ],
   "metadata": {
    "collapsed": false,
    "ExecuteTime": {
     "end_time": "2023-11-25T10:46:46.847166Z",
     "start_time": "2023-11-25T10:46:46.784126Z"
    }
   },
   "id": "d8f7f0aed74691e6"
  },
  {
   "cell_type": "code",
   "execution_count": 7,
   "outputs": [
    {
     "data": {
      "text/plain": "<matplotlib.image.AxesImage at 0x127319ea0>"
     },
     "execution_count": 7,
     "metadata": {},
     "output_type": "execute_result"
    },
    {
     "data": {
      "text/plain": "<Figure size 640x480 with 1 Axes>",
      "image/png": "[encoded data removed]"
     },
     "metadata": {},
     "output_type": "display_data"
    }
   ],
   "source": [
    "# cosine simmilarity\n",
    "cost_matrix = sot.compute_cost(V)\n",
    "plt.imshow(cost_matrix.detach())"
   ],
   "metadata": {
    "collapsed": false,
    "ExecuteTime": {
     "end_time": "2023-11-25T10:48:50.125742Z",
     "start_time": "2023-11-25T10:48:49.999985Z"
    }
   },
   "id": "a2f572195fe3ae00"
  },
  {
   "cell_type": "code",
   "execution_count": 14,
   "outputs": [
    {
     "data": {
      "text/plain": "tensor([0.1000, 0.1000, 0.1000, 0.1000, 0.1000, 0.1000, 0.1000, 0.1000, 0.1000,\n        0.1000])"
     },
     "execution_count": 14,
     "metadata": {},
     "output_type": "execute_result"
    }
   ],
   "source": [
    "x_points, _ = cost_matrix.shape\n",
    "# both marginals are fixed with equal weights\n",
    "mu = torch.empty(x_points, dtype=torch.float,\n",
    "                 requires_grad=False).fill_(1.0 / x_points).squeeze().to(cost_matrix.device)\n",
    "mu"
   ],
   "metadata": {
    "collapsed": false,
    "ExecuteTime": {
     "end_time": "2023-11-25T11:03:45.942989Z",
     "start_time": "2023-11-25T11:03:45.866069Z"
    }
   },
   "id": "c79bbe43620097b1"
  },
  {
   "cell_type": "code",
   "execution_count": 12,
   "outputs": [
    {
     "ename": "SyntaxError",
     "evalue": "incomplete input (1135314083.py, line 1)",
     "output_type": "error",
     "traceback": [
      "\u001B[0;36m  Cell \u001B[0;32mIn[12], line 1\u001B[0;36m\u001B[0m\n\u001B[0;31m    sot_features = sot(\u001B[0m\n\u001B[0m                       ^\u001B[0m\n\u001B[0;31mSyntaxError\u001B[0m\u001B[0;31m:\u001B[0m incomplete input\n"
     ]
    }
   ],
   "source": [
    "sot_features = sot("
   ],
   "metadata": {
    "collapsed": false,
    "ExecuteTime": {
     "end_time": "2023-11-25T11:03:40.963430Z",
     "start_time": "2023-11-25T11:03:40.938262Z"
    }
   },
   "id": "8c7ae5a2ede8529d"
  },
  {
   "cell_type": "code",
   "execution_count": 30,
   "outputs": [
    {
     "data": {
      "text/plain": "tensor([[1.0000, 0.3708, 0.3775, 0.5949, 0.8657],\n        [0.3708, 1.0000, 1.0000, 0.4963, 0.3418],\n        [0.3775, 1.0000, 1.0000, 0.4739, 0.3575],\n        [0.5949, 0.4963, 0.4739, 1.0000, 0.6439],\n        [0.8657, 0.3418, 0.3575, 0.6439, 1.0000]])"
     },
     "execution_count": 30,
     "metadata": {},
     "output_type": "execute_result"
    }
   ],
   "source": [
    "sot_features"
   ],
   "metadata": {
    "collapsed": false,
    "ExecuteTime": {
     "end_time": "2023-11-25T10:24:26.356826Z",
     "start_time": "2023-11-25T10:24:26.315695Z"
    }
   },
   "id": "9c752b2833719176"
  },
  {
   "cell_type": "code",
   "execution_count": null,
   "outputs": [],
   "source": [],
   "metadata": {
    "collapsed": false
   },
   "id": "1e5a63e772edf3aa"
  },
  {
   "cell_type": "code",
   "execution_count": 31,
   "outputs": [
    {
     "data": {
      "text/plain": "Text(0.5, 1.0, 'SOT Features')"
     },
     "execution_count": 31,
     "metadata": {},
     "output_type": "execute_result"
    },
    {
     "data": {
      "text/plain": "<Figure size 1000x500 with 2 Axes>",
      "image/png": "[encoded data removed]"
     },
     "metadata": {},
     "output_type": "display_data"
    }
   ],
   "source": [
    "\n",
    "fig, axs = plt.subplots(1, 2, figsize=(10, 5))\n",
    "axs[0].scatter(X[:, 0], X[:, 1])\n",
    "axs[0].set_title('Original Data')\n",
    "axs[1].scatter(sot_features[:, 0], sot_features[:, 1])\n",
    "axs[1].set_title('SOT Features')"
   ],
   "metadata": {
    "collapsed": false,
    "ExecuteTime": {
     "end_time": "2023-11-25T10:24:29.497178Z",
     "start_time": "2023-11-25T10:24:29.272224Z"
    }
   },
   "id": "15ad543646bb08de"
  },
  {
   "cell_type": "markdown",
   "source": [
    "# Log Sinkhorn"
   ],
   "metadata": {
    "collapsed": false
   },
   "id": "7f403ac042893790"
  },
  {
   "cell_type": "code",
   "execution_count": 8,
   "outputs": [],
   "source": [
    "M = torch.rand(5, 5)  # A random cost matrix\n",
    "reg = 0.1  # Regularization parameter\n",
    "num_iters = 10  # Number of iterations\n",
    "log_sinkhorn_output = log_sinkhorn(M, reg, num_iters)"
   ],
   "metadata": {
    "collapsed": false,
    "ExecuteTime": {
     "end_time": "2023-11-25T10:21:18.583318Z",
     "start_time": "2023-11-25T10:21:18.554956Z"
    }
   },
   "id": "a8564f6bc71f8f92"
  },
  {
   "cell_type": "code",
   "execution_count": 10,
   "outputs": [
    {
     "data": {
      "text/plain": "tensor([[ -0.0811,  -3.6358,  -8.9316,  -4.1624,  -7.6503],\n        [ -7.0530,  -4.1169,  -2.2340,  -0.1183,  -4.0591],\n        [ -5.5164,  -0.1078,  -2.6726,  -2.5783, -10.9890],\n        [ -2.6244,  -4.2989,  -5.9325,  -4.6355,  -0.1536],\n        [ -7.6290,  -3.0808,  -0.1972,  -4.5644,  -2.0826]])"
     },
     "execution_count": 10,
     "metadata": {},
     "output_type": "execute_result"
    }
   ],
   "source": [
    "log_sinkhorn_output"
   ],
   "metadata": {
    "collapsed": false,
    "ExecuteTime": {
     "end_time": "2023-11-25T10:21:30.525252Z",
     "start_time": "2023-11-25T10:21:30.496802Z"
    }
   },
   "id": "814ebdc79ec4fdcb"
  },
  {
   "cell_type": "code",
   "execution_count": null,
   "outputs": [],
   "source": [],
   "metadata": {
    "collapsed": false
   },
   "id": "d3dda2315bf7a2b9"
  }
 ],
 "metadata": {
  "kernelspec": {
   "display_name": "Python 3",
   "language": "python",
   "name": "python3"
  },
  "language_info": {
   "codemirror_mode": {
    "name": "ipython",
    "version": 2
   },
   "file_extension": ".py",
   "mimetype": "text/x-python",
   "name": "python",
   "nbconvert_exporter": "python",
   "pygments_lexer": "ipython2",
   "version": "2.7.6"
  }
 },
 "nbformat": 4,
 "nbformat_minor": 5
}
