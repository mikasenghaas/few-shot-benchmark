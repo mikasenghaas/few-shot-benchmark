{
 "cells": [
  {
   "cell_type": "markdown",
   "metadata": {},
   "source": [
    "# Analysis\n",
    "\n",
    "This notebook contains the analysis of the data tracked on\n",
    "[Weights & Biases](https://wandb.ai/).\n"
   ]
  },
  {
   "cell_type": "markdown",
   "metadata": {},
   "source": [
    "## Setup\n",
    "\n",
    "---\n",
    "\n",
    "We will first setup everything so that we can easily analyse the experiment\n",
    "results. This includes importing the necessary libraries, setting paths, loading\n",
    "the experiment results from W&B.\n"
   ]
  },
  {
   "cell_type": "code",
   "execution_count": 1,
   "metadata": {
    "ExecuteTime": {
     "end_time": "2023-12-11T14:04:59.989806Z",
     "start_time": "2023-12-11T14:04:58.077712Z"
    }
   },
   "outputs": [],
   "source": [
    "# ruff: noqa\n",
    "%load_ext autoreload\n",
    "%autoreload 2\n",
    "\n",
    "# Bult-in modules\n",
    "import os\n",
    "import sys\n",
    "\n",
    "sys.path.insert(0, \"..\")\n",
    "\n",
    "# Ignore warnings\n",
    "import warnings\n",
    "\n",
    "warnings.filterwarnings(\"ignore\")\n",
    "\n",
    "# External modules\n",
    "# - Data Representation\n",
    "import pandas as pd\n",
    "import numpy as np\n",
    "\n",
    "# - Data Visualization\n",
    "from matplotlib import pyplot as plt\n",
    "import seaborn as sns\n",
    "import plotnine as pn\n",
    "\n",
    "# - Machine Learning\n",
    "import torch\n",
    "\n",
    "# - Experiment Configuration and Logging\n",
    "import wandb\n",
    "\n",
    "# Custom modules\n",
    "from utils import eval_utils as utils"
   ]
  },
  {
   "cell_type": "code",
   "execution_count": 2,
   "metadata": {
    "ExecuteTime": {
     "end_time": "2023-12-11T14:05:00.037347Z",
     "start_time": "2023-12-11T14:04:59.990981Z"
    }
   },
   "outputs": [],
   "source": [
    "# Setup of global variables\n",
    "ROOT_DIR = os.path.dirname(os.path.abspath(\".\"))\n",
    "ARTIFACT_DIR = os.path.join(ROOT_DIR, \"artifacts\")\n",
    "FIGURE_DIR = os.path.join(ROOT_DIR, \"figures\")\n",
    "TABLE_DIR = os.path.join(ROOT_DIR, \"report\", \"tables\")\n",
    "\n",
    "METHODS = [\"baseline\", \"baseline_pp\", \"matchingnet\", \"protonet\", \"maml\"]\n",
    "METHODS_WITH_SOT = []\n",
    "for method in METHODS:\n",
    "    METHODS_WITH_SOT.append(method)\n",
    "    METHODS_WITH_SOT.append(method + \"_sot\")\n",
    "\n",
    "STYLED_METHODS = [\"Baseline\", \"Baseline++\", \"MatchingNet\", \"ProtoNet\", \"MAML\"]\n",
    "STYLED_METHODS_WITH_SOT = []\n",
    "for method in STYLED_METHODS:\n",
    "    STYLED_METHODS_WITH_SOT.append(method)\n",
    "    STYLED_METHODS_WITH_SOT.append(method + \" (SOT)\")\n",
    "\n",
    "styled_methods_dict = dict(zip(METHODS, STYLED_METHODS))\n",
    "\n",
    "\n",
    "def get_name(name, sot=False):\n",
    "    return styled_methods_dict[name] + (\" (SOT)\" if sot else \"\")"
   ]
  },
  {
   "cell_type": "code",
   "execution_count": 3,
   "metadata": {
    "ExecuteTime": {
     "end_time": "2023-12-11T14:05:00.090704Z",
     "start_time": "2023-12-11T14:05:00.023567Z"
    }
   },
   "outputs": [],
   "source": [
    "# Settings\n",
    "sns.set_style(\"dark\")\n",
    "colorstyle = \"RdBu\"\n",
    "sns.set_palette(colorstyle)"
   ]
  },
  {
   "cell_type": "code",
   "execution_count": 4,
   "metadata": {
    "ExecuteTime": {
     "end_time": "2023-12-11T14:05:00.325492Z",
     "start_time": "2023-12-11T14:05:00.052982Z"
    }
   },
   "outputs": [],
   "source": [
    "# Initialize wandb\n",
    "WANDB_PROJECT = \"few-shot-benchmark\"\n",
    "WANDB_ENTITY = \"metameta-learners\"\n",
    "\n",
    "# Initialize W&B API\n",
    "api = wandb.Api()\n",
    "\n",
    "# Get all runs\n",
    "runs = api.runs(f\"{WANDB_ENTITY}/{WANDB_PROJECT}\")"
   ]
  },
  {
   "cell_type": "markdown",
   "metadata": {},
   "source": [
    "## Experiment 1: Benchmark\n",
    "\n",
    "---\n",
    "\n",
    "All models on all datasets with and without SOT for fixed few-shot learning\n",
    "setting (5-way 5-shot).\n"
   ]
  },
  {
   "cell_type": "markdown",
   "metadata": {},
   "source": [
    "### Loading Experiment Data\n"
   ]
  },
  {
   "cell_type": "code",
   "execution_count": 5,
   "metadata": {
    "ExecuteTime": {
     "end_time": "2023-12-11T14:08:35.639863Z",
     "start_time": "2023-12-11T14:08:35.569809Z"
    }
   },
   "outputs": [
    {
     "name": "stdout",
     "output_type": "stream",
     "text": [
      "✅ Found 187 runs\n"
     ]
    }
   ],
   "source": [
    "# Get all runs for experiment `benchmark`\n",
    "GROUP = \"tuned-benchmark\"\n",
    "\n",
    "group_runs = [run for run in runs if run.group ==\n",
    "              GROUP and run.state == \"finished\"]\n",
    "print(f\"✅ Found {len(group_runs)} runs\")"
   ]
  },
  {
   "cell_type": "markdown",
   "metadata": {},
   "source": [
    "Next, we'll load all runs from the given experiment group into a single\n",
    "dataframe.\n"
   ]
  },
  {
   "cell_type": "code",
   "execution_count": 6,
   "metadata": {
    "ExecuteTime": {
     "end_time": "2023-12-11T14:08:36.955554Z",
     "start_time": "2023-12-11T14:08:36.862970Z"
    }
   },
   "outputs": [
    {
     "name": "stdout",
     "output_type": "stream",
     "text": [
      "✅ Loaded 187 runs.\n"
     ]
    },
    {
     "data": {
      "text/html": [
       "<div>\n",
       "<style scoped>\n",
       "    .dataframe tbody tr th:only-of-type {\n",
       "        vertical-align: middle;\n",
       "    }\n",
       "\n",
       "    .dataframe tbody tr th {\n",
       "        vertical-align: top;\n",
       "    }\n",
       "\n",
       "    .dataframe thead tr th {\n",
       "        text-align: left;\n",
       "    }\n",
       "\n",
       "    .dataframe thead tr:last-of-type th {\n",
       "        text-align: right;\n",
       "    }\n",
       "</style>\n",
       "<table border=\"1\" class=\"dataframe\">\n",
       "  <thead>\n",
       "    <tr>\n",
       "      <th></th>\n",
       "      <th colspan=\"2\" halign=\"left\">info</th>\n",
       "      <th colspan=\"5\" halign=\"left\">config</th>\n",
       "      <th colspan=\"10\" halign=\"left\">eval</th>\n",
       "      <th colspan=\"4\" halign=\"left\">hyperparam</th>\n",
       "    </tr>\n",
       "    <tr>\n",
       "      <th></th>\n",
       "      <th>name</th>\n",
       "      <th>runtime</th>\n",
       "      <th>dataset</th>\n",
       "      <th>method</th>\n",
       "      <th>use_sot</th>\n",
       "      <th>n_way</th>\n",
       "      <th>n_shot</th>\n",
       "      <th>val/acc</th>\n",
       "      <th>test/acc_ci</th>\n",
       "      <th>train/loss</th>\n",
       "      <th>...</th>\n",
       "      <th>test/acc</th>\n",
       "      <th>train/acc</th>\n",
       "      <th>val/acc_std</th>\n",
       "      <th>train/acc_std</th>\n",
       "      <th>epoch</th>\n",
       "      <th>train/acc_ci</th>\n",
       "      <th>lr</th>\n",
       "      <th>sot_reg</th>\n",
       "      <th>sot_sinkhorn_iter</th>\n",
       "      <th>sot_dist_metric</th>\n",
       "    </tr>\n",
       "    <tr>\n",
       "      <th>id</th>\n",
       "      <th></th>\n",
       "      <th></th>\n",
       "      <th></th>\n",
       "      <th></th>\n",
       "      <th></th>\n",
       "      <th></th>\n",
       "      <th></th>\n",
       "      <th></th>\n",
       "      <th></th>\n",
       "      <th></th>\n",
       "      <th></th>\n",
       "      <th></th>\n",
       "      <th></th>\n",
       "      <th></th>\n",
       "      <th></th>\n",
       "      <th></th>\n",
       "      <th></th>\n",
       "      <th></th>\n",
       "      <th></th>\n",
       "      <th></th>\n",
       "      <th></th>\n",
       "    </tr>\n",
       "  </thead>\n",
       "  <tbody>\n",
       "    <tr>\n",
       "      <th>xhag25gy</th>\n",
       "      <td>protonet-swissprot-sot-5-way-5-shot</td>\n",
       "      <td>41.468315</td>\n",
       "      <td>swissprot</td>\n",
       "      <td>protonet</td>\n",
       "      <td>True</td>\n",
       "      <td>5</td>\n",
       "      <td>5</td>\n",
       "      <td>86.933333</td>\n",
       "      <td>0.646484</td>\n",
       "      <td>0.244571</td>\n",
       "      <td>...</td>\n",
       "      <td>80.520000</td>\n",
       "      <td>92.466667</td>\n",
       "      <td>7.796295</td>\n",
       "      <td>6.604712</td>\n",
       "      <td>11</td>\n",
       "      <td>0.528487</td>\n",
       "      <td>0.0010</td>\n",
       "      <td>1.0</td>\n",
       "      <td>10</td>\n",
       "      <td>euclidean</td>\n",
       "    </tr>\n",
       "    <tr>\n",
       "      <th>l44f5r3n</th>\n",
       "      <td>protonet-swissprot-sot-5-way-5-shot</td>\n",
       "      <td>59.784709</td>\n",
       "      <td>swissprot</td>\n",
       "      <td>protonet</td>\n",
       "      <td>True</td>\n",
       "      <td>5</td>\n",
       "      <td>5</td>\n",
       "      <td>99.453333</td>\n",
       "      <td>0.140367</td>\n",
       "      <td>0.027856</td>\n",
       "      <td>...</td>\n",
       "      <td>99.206667</td>\n",
       "      <td>99.866667</td>\n",
       "      <td>1.623111</td>\n",
       "      <td>0.718022</td>\n",
       "      <td>20</td>\n",
       "      <td>0.057454</td>\n",
       "      <td>0.0010</td>\n",
       "      <td>0.1</td>\n",
       "      <td>10</td>\n",
       "      <td>euclidean</td>\n",
       "    </tr>\n",
       "    <tr>\n",
       "      <th>sfge218r</th>\n",
       "      <td>protonet-swissprot-sot-5-way-5-shot</td>\n",
       "      <td>68.427992</td>\n",
       "      <td>swissprot</td>\n",
       "      <td>protonet</td>\n",
       "      <td>True</td>\n",
       "      <td>5</td>\n",
       "      <td>5</td>\n",
       "      <td>88.413333</td>\n",
       "      <td>0.483614</td>\n",
       "      <td>0.078707</td>\n",
       "      <td>...</td>\n",
       "      <td>87.533333</td>\n",
       "      <td>97.566667</td>\n",
       "      <td>7.206651</td>\n",
       "      <td>3.676804</td>\n",
       "      <td>22</td>\n",
       "      <td>0.294206</td>\n",
       "      <td>0.0010</td>\n",
       "      <td>1.0</td>\n",
       "      <td>10</td>\n",
       "      <td>cosine</td>\n",
       "    </tr>\n",
       "    <tr>\n",
       "      <th>dmdcuf2o</th>\n",
       "      <td>protonet-swissprot-sot-5-way-5-shot</td>\n",
       "      <td>52.142571</td>\n",
       "      <td>swissprot</td>\n",
       "      <td>protonet</td>\n",
       "      <td>True</td>\n",
       "      <td>5</td>\n",
       "      <td>5</td>\n",
       "      <td>98.866667</td>\n",
       "      <td>0.114001</td>\n",
       "      <td>0.03927</td>\n",
       "      <td>...</td>\n",
       "      <td>99.513333</td>\n",
       "      <td>99.660000</td>\n",
       "      <td>2.308439</td>\n",
       "      <td>1.162354</td>\n",
       "      <td>15</td>\n",
       "      <td>0.093008</td>\n",
       "      <td>0.0010</td>\n",
       "      <td>0.1</td>\n",
       "      <td>10</td>\n",
       "      <td>cosine</td>\n",
       "    </tr>\n",
       "    <tr>\n",
       "      <th>mrol34qm</th>\n",
       "      <td>protonet-swissprot-sot-5-way-5-shot</td>\n",
       "      <td>37.431727</td>\n",
       "      <td>swissprot</td>\n",
       "      <td>protonet</td>\n",
       "      <td>True</td>\n",
       "      <td>5</td>\n",
       "      <td>5</td>\n",
       "      <td>83.480000</td>\n",
       "      <td>0.688567</td>\n",
       "      <td>0.271612</td>\n",
       "      <td>...</td>\n",
       "      <td>76.046667</td>\n",
       "      <td>90.013333</td>\n",
       "      <td>9.240289</td>\n",
       "      <td>8.603865</td>\n",
       "      <td>11</td>\n",
       "      <td>0.688453</td>\n",
       "      <td>0.0005</td>\n",
       "      <td>1.0</td>\n",
       "      <td>10</td>\n",
       "      <td>euclidean</td>\n",
       "    </tr>\n",
       "  </tbody>\n",
       "</table>\n",
       "<p>5 rows × 22 columns</p>\n",
       "</div>"
      ],
      "text/plain": [
       "                                         info                config            \\\n",
       "                                         name    runtime    dataset    method   \n",
       "id                                                                              \n",
       "xhag25gy  protonet-swissprot-sot-5-way-5-shot  41.468315  swissprot  protonet   \n",
       "l44f5r3n  protonet-swissprot-sot-5-way-5-shot  59.784709  swissprot  protonet   \n",
       "sfge218r  protonet-swissprot-sot-5-way-5-shot  68.427992  swissprot  protonet   \n",
       "dmdcuf2o  protonet-swissprot-sot-5-way-5-shot  52.142571  swissprot  protonet   \n",
       "mrol34qm  protonet-swissprot-sot-5-way-5-shot  37.431727  swissprot  protonet   \n",
       "\n",
       "                                    eval                         ...  \\\n",
       "         use_sot n_way n_shot    val/acc test/acc_ci train/loss  ...   \n",
       "id                                                               ...   \n",
       "xhag25gy    True     5      5  86.933333    0.646484   0.244571  ...   \n",
       "l44f5r3n    True     5      5  99.453333    0.140367   0.027856  ...   \n",
       "sfge218r    True     5      5  88.413333    0.483614   0.078707  ...   \n",
       "dmdcuf2o    True     5      5  98.866667    0.114001    0.03927  ...   \n",
       "mrol34qm    True     5      5  83.480000    0.688567   0.271612  ...   \n",
       "\n",
       "                                                                             \\\n",
       "           test/acc  train/acc val/acc_std train/acc_std epoch train/acc_ci   \n",
       "id                                                                            \n",
       "xhag25gy  80.520000  92.466667    7.796295      6.604712    11     0.528487   \n",
       "l44f5r3n  99.206667  99.866667    1.623111      0.718022    20     0.057454   \n",
       "sfge218r  87.533333  97.566667    7.206651      3.676804    22     0.294206   \n",
       "dmdcuf2o  99.513333  99.660000    2.308439      1.162354    15     0.093008   \n",
       "mrol34qm  76.046667  90.013333    9.240289      8.603865    11     0.688453   \n",
       "\n",
       "         hyperparam                                            \n",
       "                 lr sot_reg sot_sinkhorn_iter sot_dist_metric  \n",
       "id                                                             \n",
       "xhag25gy     0.0010     1.0                10       euclidean  \n",
       "l44f5r3n     0.0010     0.1                10       euclidean  \n",
       "sfge218r     0.0010     1.0                10          cosine  \n",
       "dmdcuf2o     0.0010     0.1                10          cosine  \n",
       "mrol34qm     0.0005     1.0                10       euclidean  \n",
       "\n",
       "[5 rows x 22 columns]"
      ]
     },
     "execution_count": 6,
     "metadata": {},
     "output_type": "execute_result"
    }
   ],
   "source": [
    "df_runs = utils.load_to_df(group_runs)\n",
    "print(f\"✅ Loaded {len(df_runs)} runs.\")\n",
    "\n",
    "df_runs.head()"
   ]
  },
  {
   "cell_type": "markdown",
   "metadata": {},
   "source": [
    "### Grouping\n",
    "\n",
    "Each experiment is uniquely identified by the following parameters:\n",
    "\n",
    "- `dataset`: The dataset used (`swissprot`, `tabula_muris`)\n",
    "- `method`: The model used (`baseline`, `baseline_pp`, `protonet`,\n",
    "  `matchingnet`, `maml`)\n",
    "- `use_sot`: Whether to include the SOT module (`True`, `False`)\n",
    "- `n_way`: The number of classes in each episode\n",
    "- `n_shot`: The number of support samples per class in each episode\n",
    "\n",
    "For each experiment setting, there are multiple trained models because of\n",
    "hyper-parameter tuning. We will group the runs by the above parameters and only\n",
    "use the best-performing model on the validation set for the following analysis.\n"
   ]
  },
  {
   "cell_type": "code",
   "execution_count": 7,
   "metadata": {
    "ExecuteTime": {
     "end_time": "2023-12-11T14:05:02.607240Z",
     "start_time": "2023-12-11T14:05:02.504502Z"
    }
   },
   "outputs": [
    {
     "name": "stdout",
     "output_type": "stream",
     "text": [
      "✅ Filtered to 20 best runs.\n"
     ]
    },
    {
     "data": {
      "text/html": [
       "<div>\n",
       "<style scoped>\n",
       "    .dataframe tbody tr th:only-of-type {\n",
       "        vertical-align: middle;\n",
       "    }\n",
       "\n",
       "    .dataframe tbody tr th {\n",
       "        vertical-align: top;\n",
       "    }\n",
       "\n",
       "    .dataframe thead tr th {\n",
       "        text-align: left;\n",
       "    }\n",
       "</style>\n",
       "<table border=\"1\" class=\"dataframe\">\n",
       "  <thead>\n",
       "    <tr>\n",
       "      <th></th>\n",
       "      <th colspan=\"2\" halign=\"left\">info</th>\n",
       "      <th colspan=\"5\" halign=\"left\">config</th>\n",
       "      <th colspan=\"10\" halign=\"left\">eval</th>\n",
       "      <th colspan=\"4\" halign=\"left\">hyperparam</th>\n",
       "    </tr>\n",
       "    <tr>\n",
       "      <th></th>\n",
       "      <th>name</th>\n",
       "      <th>runtime</th>\n",
       "      <th>dataset</th>\n",
       "      <th>method</th>\n",
       "      <th>use_sot</th>\n",
       "      <th>n_way</th>\n",
       "      <th>n_shot</th>\n",
       "      <th>val/acc</th>\n",
       "      <th>test/acc_ci</th>\n",
       "      <th>train/loss</th>\n",
       "      <th>...</th>\n",
       "      <th>test/acc</th>\n",
       "      <th>train/acc</th>\n",
       "      <th>val/acc_std</th>\n",
       "      <th>train/acc_std</th>\n",
       "      <th>epoch</th>\n",
       "      <th>train/acc_ci</th>\n",
       "      <th>lr</th>\n",
       "      <th>sot_reg</th>\n",
       "      <th>sot_sinkhorn_iter</th>\n",
       "      <th>sot_dist_metric</th>\n",
       "    </tr>\n",
       "  </thead>\n",
       "  <tbody>\n",
       "    <tr>\n",
       "      <th>l44f5r3n</th>\n",
       "      <td>protonet-swissprot-sot-5-way-5-shot</td>\n",
       "      <td>59.784709</td>\n",
       "      <td>swissprot</td>\n",
       "      <td>protonet</td>\n",
       "      <td>True</td>\n",
       "      <td>5</td>\n",
       "      <td>5</td>\n",
       "      <td>99.453333</td>\n",
       "      <td>0.140367</td>\n",
       "      <td>0.027856</td>\n",
       "      <td>...</td>\n",
       "      <td>99.206667</td>\n",
       "      <td>99.866667</td>\n",
       "      <td>1.623111</td>\n",
       "      <td>0.718022</td>\n",
       "      <td>20</td>\n",
       "      <td>0.057454</td>\n",
       "      <td>0.001</td>\n",
       "      <td>0.1</td>\n",
       "      <td>10</td>\n",
       "      <td>euclidean</td>\n",
       "    </tr>\n",
       "    <tr>\n",
       "      <th>mb6s32it</th>\n",
       "      <td>baseline_pp-tabula_muris-sot-5-way-5-shot</td>\n",
       "      <td>283.423143</td>\n",
       "      <td>tabula_muris</td>\n",
       "      <td>baseline_pp</td>\n",
       "      <td>True</td>\n",
       "      <td>5</td>\n",
       "      <td>5</td>\n",
       "      <td>76.920000</td>\n",
       "      <td>0.934640</td>\n",
       "      <td>3.137616</td>\n",
       "      <td>...</td>\n",
       "      <td>82.760000</td>\n",
       "      <td>83.393333</td>\n",
       "      <td>13.783333</td>\n",
       "      <td>11.450995</td>\n",
       "      <td>6</td>\n",
       "      <td>0.916270</td>\n",
       "      <td>0.001</td>\n",
       "      <td>0.1</td>\n",
       "      <td>10</td>\n",
       "      <td>cosine</td>\n",
       "    </tr>\n",
       "    <tr>\n",
       "      <th>9mzhwegk</th>\n",
       "      <td>baseline_pp-tabula_muris-5-way-5-shot</td>\n",
       "      <td>287.713995</td>\n",
       "      <td>tabula_muris</td>\n",
       "      <td>baseline_pp</td>\n",
       "      <td>False</td>\n",
       "      <td>5</td>\n",
       "      <td>5</td>\n",
       "      <td>82.566667</td>\n",
       "      <td>0.875316</td>\n",
       "      <td>0.262760</td>\n",
       "      <td>...</td>\n",
       "      <td>81.880000</td>\n",
       "      <td>96.106667</td>\n",
       "      <td>11.271153</td>\n",
       "      <td>6.139649</td>\n",
       "      <td>8</td>\n",
       "      <td>0.491274</td>\n",
       "      <td>0.001</td>\n",
       "      <td>0.1</td>\n",
       "      <td>10</td>\n",
       "      <td>cosine</td>\n",
       "    </tr>\n",
       "    <tr>\n",
       "      <th>pklw5upz</th>\n",
       "      <td>baseline_pp-swissprot-sot-5-way-5-shot</td>\n",
       "      <td>339.399153</td>\n",
       "      <td>swissprot</td>\n",
       "      <td>baseline_pp</td>\n",
       "      <td>True</td>\n",
       "      <td>5</td>\n",
       "      <td>5</td>\n",
       "      <td>75.646667</td>\n",
       "      <td>0.722091</td>\n",
       "      <td>3.982392</td>\n",
       "      <td>...</td>\n",
       "      <td>64.613333</td>\n",
       "      <td>73.366667</td>\n",
       "      <td>11.209898</td>\n",
       "      <td>12.618461</td>\n",
       "      <td>7</td>\n",
       "      <td>1.009687</td>\n",
       "      <td>0.001</td>\n",
       "      <td>0.1</td>\n",
       "      <td>10</td>\n",
       "      <td>cosine</td>\n",
       "    </tr>\n",
       "    <tr>\n",
       "      <th>g07tittq</th>\n",
       "      <td>baseline_pp-swissprot-5-way-5-shot</td>\n",
       "      <td>358.645061</td>\n",
       "      <td>swissprot</td>\n",
       "      <td>baseline_pp</td>\n",
       "      <td>False</td>\n",
       "      <td>5</td>\n",
       "      <td>5</td>\n",
       "      <td>74.460000</td>\n",
       "      <td>0.694068</td>\n",
       "      <td>0.774483</td>\n",
       "      <td>...</td>\n",
       "      <td>64.120000</td>\n",
       "      <td>96.066667</td>\n",
       "      <td>12.108471</td>\n",
       "      <td>4.589360</td>\n",
       "      <td>12</td>\n",
       "      <td>0.367225</td>\n",
       "      <td>0.001</td>\n",
       "      <td>0.1</td>\n",
       "      <td>10</td>\n",
       "      <td>cosine</td>\n",
       "    </tr>\n",
       "  </tbody>\n",
       "</table>\n",
       "<p>5 rows × 22 columns</p>\n",
       "</div>"
      ],
      "text/plain": [
       "                                               info                    config  \\\n",
       "                                               name     runtime       dataset   \n",
       "l44f5r3n        protonet-swissprot-sot-5-way-5-shot   59.784709     swissprot   \n",
       "mb6s32it  baseline_pp-tabula_muris-sot-5-way-5-shot  283.423143  tabula_muris   \n",
       "9mzhwegk      baseline_pp-tabula_muris-5-way-5-shot  287.713995  tabula_muris   \n",
       "pklw5upz     baseline_pp-swissprot-sot-5-way-5-shot  339.399153     swissprot   \n",
       "g07tittq         baseline_pp-swissprot-5-way-5-shot  358.645061     swissprot   \n",
       "\n",
       "                                                 eval                         \\\n",
       "               method use_sot n_way n_shot    val/acc test/acc_ci train/loss   \n",
       "l44f5r3n     protonet    True     5      5  99.453333    0.140367   0.027856   \n",
       "mb6s32it  baseline_pp    True     5      5  76.920000    0.934640   3.137616   \n",
       "9mzhwegk  baseline_pp   False     5      5  82.566667    0.875316   0.262760   \n",
       "pklw5upz  baseline_pp    True     5      5  75.646667    0.722091   3.982392   \n",
       "g07tittq  baseline_pp   False     5      5  74.460000    0.694068   0.774483   \n",
       "\n",
       "          ...                                                        \\\n",
       "          ...   test/acc  train/acc val/acc_std train/acc_std epoch   \n",
       "l44f5r3n  ...  99.206667  99.866667    1.623111      0.718022    20   \n",
       "mb6s32it  ...  82.760000  83.393333   13.783333     11.450995     6   \n",
       "9mzhwegk  ...  81.880000  96.106667   11.271153      6.139649     8   \n",
       "pklw5upz  ...  64.613333  73.366667   11.209898     12.618461     7   \n",
       "g07tittq  ...  64.120000  96.066667   12.108471      4.589360    12   \n",
       "\n",
       "                      hyperparam                                            \n",
       "         train/acc_ci         lr sot_reg sot_sinkhorn_iter sot_dist_metric  \n",
       "l44f5r3n     0.057454      0.001     0.1                10       euclidean  \n",
       "mb6s32it     0.916270      0.001     0.1                10          cosine  \n",
       "9mzhwegk     0.491274      0.001     0.1                10          cosine  \n",
       "pklw5upz     1.009687      0.001     0.1                10          cosine  \n",
       "g07tittq     0.367225      0.001     0.1                10          cosine  \n",
       "\n",
       "[5 rows x 22 columns]"
      ]
     },
     "execution_count": 7,
     "metadata": {},
     "output_type": "execute_result"
    }
   ],
   "source": [
    "# Group tuning runs by experiment configuration\n",
    "df_best_runs = utils.get_best_run(df_runs, metric=(\"eval\", \"val/acc\"))\n",
    "print(f\"✅ Filtered to {len(df_best_runs)} best runs.\")\n",
    "\n",
    "# Let's also save two separate dataframes for the two different datasets\n",
    "df_best_runs_tm = df_best_runs[df_best_runs[(\"config\", \"dataset\")] == \"tabula_muris\"]\n",
    "df_best_runs_sp = df_best_runs[df_best_runs[(\"config\", \"dataset\")] == \"swissprot\"]\n",
    "\n",
    "df_best_runs.head()"
   ]
  },
  {
   "cell_type": "code",
   "execution_count": 8,
   "metadata": {
    "ExecuteTime": {
     "end_time": "2023-12-11T14:05:03.031061Z",
     "start_time": "2023-12-11T14:05:02.590329Z"
    }
   },
   "outputs": [
    {
     "data": {
      "text/html": [
       "<div>\n",
       "<style scoped>\n",
       "    .dataframe tbody tr th:only-of-type {\n",
       "        vertical-align: middle;\n",
       "    }\n",
       "\n",
       "    .dataframe tbody tr th {\n",
       "        vertical-align: top;\n",
       "    }\n",
       "\n",
       "    .dataframe thead th {\n",
       "        text-align: right;\n",
       "    }\n",
       "</style>\n",
       "<table border=\"1\" class=\"dataframe\">\n",
       "  <thead>\n",
       "    <tr style=\"text-align: right;\">\n",
       "      <th></th>\n",
       "      <th></th>\n",
       "      <th>Acc</th>\n",
       "      <th>w/ SOT</th>\n",
       "      <th>Diff</th>\n",
       "    </tr>\n",
       "    <tr>\n",
       "      <th></th>\n",
       "      <th>Method</th>\n",
       "      <th></th>\n",
       "      <th></th>\n",
       "      <th></th>\n",
       "    </tr>\n",
       "  </thead>\n",
       "  <tbody>\n",
       "    <tr>\n",
       "      <th rowspan=\"5\" valign=\"top\">TM</th>\n",
       "      <th>B</th>\n",
       "      <td>$90.7 \\pm 0.7$</td>\n",
       "      <td>$86.3 \\pm 0.9$</td>\n",
       "      <td>-4.84</td>\n",
       "    </tr>\n",
       "    <tr>\n",
       "      <th>B++</th>\n",
       "      <td>$81.9 \\pm 0.9$</td>\n",
       "      <td>$82.8 \\pm 0.9$</td>\n",
       "      <td>1.07</td>\n",
       "    </tr>\n",
       "    <tr>\n",
       "      <th>MAML</th>\n",
       "      <td>$92.8 \\pm 0.5$</td>\n",
       "      <td>$99.2 \\pm 0.1$</td>\n",
       "      <td>6.86</td>\n",
       "    </tr>\n",
       "    <tr>\n",
       "      <th>MT</th>\n",
       "      <td>$84.6 \\pm 0.8$</td>\n",
       "      <td>$99.7 \\pm 0.1$</td>\n",
       "      <td>17.90</td>\n",
       "    </tr>\n",
       "    <tr>\n",
       "      <th>PT</th>\n",
       "      <td>$87.1 \\pm 0.8$</td>\n",
       "      <td>$98.6 \\pm 0.2$</td>\n",
       "      <td>13.23</td>\n",
       "    </tr>\n",
       "    <tr>\n",
       "      <th rowspan=\"5\" valign=\"top\">SP</th>\n",
       "      <th>B</th>\n",
       "      <td>$69.2 \\pm 0.7$</td>\n",
       "      <td>$55.7 \\pm 0.8$</td>\n",
       "      <td>-19.55</td>\n",
       "    </tr>\n",
       "    <tr>\n",
       "      <th>B++</th>\n",
       "      <td>$64.1 \\pm 0.7$</td>\n",
       "      <td>$64.6 \\pm 0.7$</td>\n",
       "      <td>0.77</td>\n",
       "    </tr>\n",
       "    <tr>\n",
       "      <th>MAML</th>\n",
       "      <td>$68.7 \\pm 0.7$</td>\n",
       "      <td>$98.0 \\pm 0.2$</td>\n",
       "      <td>42.79</td>\n",
       "    </tr>\n",
       "    <tr>\n",
       "      <th>MT</th>\n",
       "      <td>$68.2 \\pm 0.8$</td>\n",
       "      <td>$99.8 \\pm 0.1$</td>\n",
       "      <td>46.46</td>\n",
       "    </tr>\n",
       "    <tr>\n",
       "      <th>PT</th>\n",
       "      <td>$63.5 \\pm 0.7$</td>\n",
       "      <td>$99.2 \\pm 0.1$</td>\n",
       "      <td>56.13</td>\n",
       "    </tr>\n",
       "  </tbody>\n",
       "</table>\n",
       "</div>"
      ],
      "text/plain": [
       "                      Acc          w/ SOT   Diff\n",
       "   Method                                       \n",
       "TM B       $90.7 \\pm 0.7$  $86.3 \\pm 0.9$  -4.84\n",
       "   B++     $81.9 \\pm 0.9$  $82.8 \\pm 0.9$   1.07\n",
       "   MAML    $92.8 \\pm 0.5$  $99.2 \\pm 0.1$   6.86\n",
       "   MT      $84.6 \\pm 0.8$  $99.7 \\pm 0.1$  17.90\n",
       "   PT      $87.1 \\pm 0.8$  $98.6 \\pm 0.2$  13.23\n",
       "SP B       $69.2 \\pm 0.7$  $55.7 \\pm 0.8$ -19.55\n",
       "   B++     $64.1 \\pm 0.7$  $64.6 \\pm 0.7$   0.77\n",
       "   MAML    $68.7 \\pm 0.7$  $98.0 \\pm 0.2$  42.79\n",
       "   MT      $68.2 \\pm 0.8$  $99.8 \\pm 0.1$  46.46\n",
       "   PT      $63.5 \\pm 0.7$  $99.2 \\pm 0.1$  56.13"
      ]
     },
     "execution_count": 8,
     "metadata": {},
     "output_type": "execute_result"
    }
   ],
   "source": [
    "# Parse the results for both the report\n",
    "tm_res = utils.exp2results(df_best_runs_tm)\n",
    "sp_res = utils.exp2results(df_best_runs_sp)\n",
    "\n",
    "# Create a MultiIndex for the results where the first level is the dataset\n",
    "tm_res = tm_res.set_index(\"Method\")\n",
    "tm_res.index = pd.MultiIndex.from_product([[\"TM\"], tm_res.index])\n",
    "sp_res = sp_res.set_index(\"Method\")\n",
    "sp_res.index = pd.MultiIndex.from_product([[\"SP\"], sp_res.index])\n",
    "\n",
    "# Concatenate the results\n",
    "df_results = pd.concat([tm_res, sp_res])\n",
    "\n",
    "# Get the latex\n",
    "latex = utils.exp2latex(df_results)\n",
    "\n",
    "# Save the latex\n",
    "with open(os.path.join(TABLE_DIR, \"tuned-benchmark.tex\"), \"w\") as f:\n",
    "    f.write(latex)\n",
    "\n",
    "df_results"
   ]
  },
  {
   "cell_type": "markdown",
   "metadata": {},
   "source": [
    "### Train / Val / Test Performance for all models\n",
    "\n",
    "Here, we plot a simple bar plot for all methods (5 methods, each with and\n",
    "without SOT) on all three splits (train, val, test). Performances are shown in\n",
    "two separate plots for Swissprot and Tabula Muris\n"
   ]
  },
  {
   "cell_type": "code",
   "execution_count": 9,
   "metadata": {
    "ExecuteTime": {
     "start_time": "2023-12-11T14:05:03.025367Z"
    }
   },
   "outputs": [
    {
     "name": "stdout",
     "output_type": "stream",
     "text": [
      "✅ Saved figure to /Users/ludekcizinsky/Dev/personal/few-shot-benchmark/figures.\n"
     ]
    },
    {
     "data": {
      "image/png": "[encoded data removed]",
      "text/plain": [
       "<Figure size 2000x800 with 2 Axes>"
      ]
     },
     "metadata": {},
     "output_type": "display_data"
    }
   ],
   "source": [
    "# Performance by split for all methods\n",
    "fig, axs = plt.subplots(nrows=2, figsize=(20, 8))\n",
    "fig.tight_layout(pad=3.0)\n",
    "\n",
    "\n",
    "def pivot_acc(df):\n",
    "    tmp = []\n",
    "    for i, best_model in df.iterrows():\n",
    "        for split in [\"train\", \"val\", \"test\"]:\n",
    "            method_name = get_name(\n",
    "                best_model[(\"config\", \"method\")], best_model[(\"config\", \"use_sot\")]\n",
    "            )\n",
    "            tmp.append(\n",
    "                {\n",
    "                    \"method\": method_name,\n",
    "                    \"split\": split,\n",
    "                    \"acc\": best_model[(\"eval\", f\"{split}/acc\")],\n",
    "                }\n",
    "            )\n",
    "    return pd.DataFrame(tmp)\n",
    "\n",
    "\n",
    "sns.barplot(\n",
    "    pivot_acc(df_best_runs_tm),\n",
    "    x=\"method\",\n",
    "    y=\"acc\",\n",
    "    hue=\"split\",\n",
    "    order=STYLED_METHODS_WITH_SOT,\n",
    "    ax=axs[0],\n",
    ")\n",
    "sns.barplot(\n",
    "    pivot_acc(df_best_runs_sp),\n",
    "    x=\"method\",\n",
    "    y=\"acc\",\n",
    "    hue=\"split\",\n",
    "    order=STYLED_METHODS_WITH_SOT,\n",
    "    ax=axs[1],\n",
    ")\n",
    "# Set title\n",
    "axs[0].set_title(\"Tabula Muris\", fontweight=\"bold\")\n",
    "axs[1].set_title(\"SwissProt\", fontweight=\"bold\")\n",
    "\n",
    "# Disable legend on first subplot\n",
    "axs[0].get_legend().set_title(\"Split\")\n",
    "axs[1].get_legend().remove()\n",
    "\n",
    "for ax in axs:\n",
    "    ax.set_xlabel(\"Method\")\n",
    "    ax.set_ylabel(\"Acc. (%)\")\n",
    "\n",
    "fig.savefig(os.path.join(FIGURE_DIR, \"benchmark-split-perf.pdf\"), bbox_inches=\"tight\")\n",
    "print(f\"✅ Saved figure to {FIGURE_DIR}.\")"
   ]
  },
  {
   "cell_type": "markdown",
   "metadata": {},
   "source": [
    "### Performance by method with and without SOT\n",
    "\n",
    "Here, we compare the performance of the different methods with and without SOT.\n",
    "The left subplot shows the test performance on the Tabula Muris dataset, while\n",
    "the right subplot shows the test performance on the Swissprot dataset.\n"
   ]
  },
  {
   "cell_type": "code",
   "execution_count": 10,
   "metadata": {
    "ExecuteTime": {
     "start_time": "2023-12-11T14:05:03.026775Z"
    }
   },
   "outputs": [
    {
     "name": "stdout",
     "output_type": "stream",
     "text": [
      "✅ Saved figure to /Users/ludekcizinsky/Dev/personal/few-shot-benchmark/figures.\n"
     ]
    },
    {
     "data": {
      "image/png": "[encoded data removed]",
      "text/plain": [
       "<Figure size 2000x500 with 2 Axes>"
      ]
     },
     "metadata": {},
     "output_type": "display_data"
    }
   ],
   "source": [
    "# Performance by method with and without SOT\n",
    "fig, axs = plt.subplots(ncols=2, figsize=(20, 5))\n",
    "\n",
    "sns.barplot(\n",
    "    df_best_runs_tm,\n",
    "    x=(\"config\", \"method\"),\n",
    "    y=(\"eval\", \"test/acc\"),\n",
    "    hue=(\"config\", \"use_sot\"),\n",
    "    order=METHODS,\n",
    "    ax=axs[0],\n",
    ")\n",
    "\n",
    "sns.barplot(\n",
    "    df_best_runs_sp,\n",
    "    x=(\"config\", \"method\"),\n",
    "    y=(\"eval\", \"test/acc\"),\n",
    "    hue=(\"config\", \"use_sot\"),\n",
    "    ci=\"sd\",\n",
    "    order=METHODS,\n",
    "    ax=axs[1],\n",
    ")\n",
    "\n",
    "# Set title\n",
    "axs[0].set_title(\"Tabula Muris\", fontweight=\"bold\")\n",
    "axs[1].set_title(\"SwissProt\", fontweight=\"bold\")\n",
    "\n",
    "# Disable legend on first subplot\n",
    "axs[0].get_legend().set_title(\"SOT\")\n",
    "axs[1].get_legend().set_title(\"SOT\")\n",
    "\n",
    "# Set axis labels\n",
    "axs[0].set_xticklabels([get_name(name.get_text()) for name in axs[0].get_xticklabels()])\n",
    "axs[1].set_xticklabels([get_name(name.get_text()) for name in axs[1].get_xticklabels()])\n",
    "\n",
    "for ax in axs:\n",
    "    ax.set_ylabel(\"Test Acc. (%)\")\n",
    "    ax.set_xlabel(\"Method\")\n",
    "\n",
    "# Save figure\n",
    "fig.savefig(os.path.join(FIGURE_DIR, \"benchmark-perf.pdf\"), bbox_inches=\"tight\")\n",
    "print(f\"✅ Saved figure to {FIGURE_DIR}.\")"
   ]
  },
  {
   "cell_type": "markdown",
   "metadata": {},
   "source": [
    "## Experiment 2: Way-Shot Analysis\n",
    "\n",
    "---\n",
    "\n",
    "Varying the number of shots per class.\n"
   ]
  },
  {
   "cell_type": "code",
   "execution_count": 11,
   "metadata": {
    "ExecuteTime": {
     "start_time": "2023-12-11T14:05:03.028317Z"
    }
   },
   "outputs": [
    {
     "name": "stdout",
     "output_type": "stream",
     "text": [
      "✅ Found 50 runs\n"
     ]
    }
   ],
   "source": [
    "# Load experiment data for `way-shot` experiment\n",
    "GROUP = \"tuned-way-shot\"\n",
    "\n",
    "# Filter runs by group\n",
    "group_runs = [run for run in runs if run.group ==\n",
    "              GROUP and run.state == \"finished\"]\n",
    "print(f\"✅ Found {len(group_runs)} runs\")"
   ]
  },
  {
   "cell_type": "code",
   "execution_count": 12,
   "metadata": {
    "ExecuteTime": {
     "start_time": "2023-12-11T14:05:03.029875Z"
    }
   },
   "outputs": [
    {
     "name": "stdout",
     "output_type": "stream",
     "text": [
      "✅ Loaded 50 runs.\n"
     ]
    },
    {
     "data": {
      "text/html": [
       "<div>\n",
       "<style scoped>\n",
       "    .dataframe tbody tr th:only-of-type {\n",
       "        vertical-align: middle;\n",
       "    }\n",
       "\n",
       "    .dataframe tbody tr th {\n",
       "        vertical-align: top;\n",
       "    }\n",
       "\n",
       "    .dataframe thead tr th {\n",
       "        text-align: left;\n",
       "    }\n",
       "\n",
       "    .dataframe thead tr:last-of-type th {\n",
       "        text-align: right;\n",
       "    }\n",
       "</style>\n",
       "<table border=\"1\" class=\"dataframe\">\n",
       "  <thead>\n",
       "    <tr>\n",
       "      <th></th>\n",
       "      <th colspan=\"2\" halign=\"left\">info</th>\n",
       "      <th colspan=\"5\" halign=\"left\">config</th>\n",
       "      <th colspan=\"10\" halign=\"left\">eval</th>\n",
       "      <th colspan=\"4\" halign=\"left\">hyperparam</th>\n",
       "    </tr>\n",
       "    <tr>\n",
       "      <th></th>\n",
       "      <th>name</th>\n",
       "      <th>runtime</th>\n",
       "      <th>dataset</th>\n",
       "      <th>method</th>\n",
       "      <th>use_sot</th>\n",
       "      <th>n_way</th>\n",
       "      <th>n_shot</th>\n",
       "      <th>test/acc_ci</th>\n",
       "      <th>val/acc_std</th>\n",
       "      <th>val/acc</th>\n",
       "      <th>...</th>\n",
       "      <th>train/acc</th>\n",
       "      <th>train/acc_ci</th>\n",
       "      <th>train/acc_std</th>\n",
       "      <th>val/acc_ci</th>\n",
       "      <th>test/acc_std</th>\n",
       "      <th>test/acc</th>\n",
       "      <th>lr</th>\n",
       "      <th>sot_reg</th>\n",
       "      <th>sot_sinkhorn_iter</th>\n",
       "      <th>sot_dist_metric</th>\n",
       "    </tr>\n",
       "    <tr>\n",
       "      <th>id</th>\n",
       "      <th></th>\n",
       "      <th></th>\n",
       "      <th></th>\n",
       "      <th></th>\n",
       "      <th></th>\n",
       "      <th></th>\n",
       "      <th></th>\n",
       "      <th></th>\n",
       "      <th></th>\n",
       "      <th></th>\n",
       "      <th></th>\n",
       "      <th></th>\n",
       "      <th></th>\n",
       "      <th></th>\n",
       "      <th></th>\n",
       "      <th></th>\n",
       "      <th></th>\n",
       "      <th></th>\n",
       "      <th></th>\n",
       "      <th></th>\n",
       "      <th></th>\n",
       "    </tr>\n",
       "  </thead>\n",
       "  <tbody>\n",
       "    <tr>\n",
       "      <th>1fjek4v6</th>\n",
       "      <td>protonet-tabula_muris-sot-2-way-1-shot</td>\n",
       "      <td>10.146370</td>\n",
       "      <td>tabula_muris</td>\n",
       "      <td>protonet</td>\n",
       "      <td>True</td>\n",
       "      <td>2</td>\n",
       "      <td>1</td>\n",
       "      <td>0.586472</td>\n",
       "      <td>6.830792</td>\n",
       "      <td>97.083333</td>\n",
       "      <td>...</td>\n",
       "      <td>97.800000</td>\n",
       "      <td>0.517496</td>\n",
       "      <td>6.467354</td>\n",
       "      <td>0.546577</td>\n",
       "      <td>7.329374</td>\n",
       "      <td>96.716667</td>\n",
       "      <td>0.001</td>\n",
       "      <td>0.1</td>\n",
       "      <td>10</td>\n",
       "      <td>cosine</td>\n",
       "    </tr>\n",
       "    <tr>\n",
       "      <th>onltvph0</th>\n",
       "      <td>protonet-tabula_muris-2-way-1-shot</td>\n",
       "      <td>5.802267</td>\n",
       "      <td>tabula_muris</td>\n",
       "      <td>protonet</td>\n",
       "      <td>False</td>\n",
       "      <td>2</td>\n",
       "      <td>1</td>\n",
       "      <td>1.231823</td>\n",
       "      <td>15.620499</td>\n",
       "      <td>91.000000</td>\n",
       "      <td>...</td>\n",
       "      <td>92.433333</td>\n",
       "      <td>1.080706</td>\n",
       "      <td>13.506007</td>\n",
       "      <td>1.249900</td>\n",
       "      <td>15.394579</td>\n",
       "      <td>90.416667</td>\n",
       "      <td>0.001</td>\n",
       "      <td>0.1</td>\n",
       "      <td>10</td>\n",
       "      <td>cosine</td>\n",
       "    </tr>\n",
       "    <tr>\n",
       "      <th>w93rkihk</th>\n",
       "      <td>protonet-tabula_muris-sot-2-way-5-shot</td>\n",
       "      <td>20.586317</td>\n",
       "      <td>tabula_muris</td>\n",
       "      <td>protonet</td>\n",
       "      <td>True</td>\n",
       "      <td>2</td>\n",
       "      <td>5</td>\n",
       "      <td>0.268570</td>\n",
       "      <td>2.687419</td>\n",
       "      <td>99.333333</td>\n",
       "      <td>...</td>\n",
       "      <td>99.566667</td>\n",
       "      <td>0.169342</td>\n",
       "      <td>2.116339</td>\n",
       "      <td>0.215038</td>\n",
       "      <td>3.356420</td>\n",
       "      <td>98.966667</td>\n",
       "      <td>0.001</td>\n",
       "      <td>0.1</td>\n",
       "      <td>10</td>\n",
       "      <td>cosine</td>\n",
       "    </tr>\n",
       "    <tr>\n",
       "      <th>12cd0470</th>\n",
       "      <td>protonet-tabula_muris-2-way-5-shot</td>\n",
       "      <td>9.851200</td>\n",
       "      <td>tabula_muris</td>\n",
       "      <td>protonet</td>\n",
       "      <td>False</td>\n",
       "      <td>2</td>\n",
       "      <td>5</td>\n",
       "      <td>0.819714</td>\n",
       "      <td>10.510894</td>\n",
       "      <td>95.433333</td>\n",
       "      <td>...</td>\n",
       "      <td>96.883333</td>\n",
       "      <td>0.677956</td>\n",
       "      <td>8.472685</td>\n",
       "      <td>0.841047</td>\n",
       "      <td>10.244294</td>\n",
       "      <td>94.766667</td>\n",
       "      <td>0.001</td>\n",
       "      <td>0.1</td>\n",
       "      <td>10</td>\n",
       "      <td>cosine</td>\n",
       "    </tr>\n",
       "    <tr>\n",
       "      <th>sua9fxt8</th>\n",
       "      <td>protonet-tabula_muris-sot-2-way-10-shot</td>\n",
       "      <td>26.501602</td>\n",
       "      <td>tabula_muris</td>\n",
       "      <td>protonet</td>\n",
       "      <td>True</td>\n",
       "      <td>2</td>\n",
       "      <td>10</td>\n",
       "      <td>0.438099</td>\n",
       "      <td>4.598430</td>\n",
       "      <td>98.766667</td>\n",
       "      <td>...</td>\n",
       "      <td>99.700000</td>\n",
       "      <td>0.171181</td>\n",
       "      <td>2.139315</td>\n",
       "      <td>0.367951</td>\n",
       "      <td>5.475095</td>\n",
       "      <td>98.700000</td>\n",
       "      <td>0.001</td>\n",
       "      <td>0.1</td>\n",
       "      <td>10</td>\n",
       "      <td>cosine</td>\n",
       "    </tr>\n",
       "  </tbody>\n",
       "</table>\n",
       "<p>5 rows × 22 columns</p>\n",
       "</div>"
      ],
      "text/plain": [
       "                                             info                   config  \\\n",
       "                                             name    runtime       dataset   \n",
       "id                                                                           \n",
       "1fjek4v6   protonet-tabula_muris-sot-2-way-1-shot  10.146370  tabula_muris   \n",
       "onltvph0       protonet-tabula_muris-2-way-1-shot   5.802267  tabula_muris   \n",
       "w93rkihk   protonet-tabula_muris-sot-2-way-5-shot  20.586317  tabula_muris   \n",
       "12cd0470       protonet-tabula_muris-2-way-5-shot   9.851200  tabula_muris   \n",
       "sua9fxt8  protonet-tabula_muris-sot-2-way-10-shot  26.501602  tabula_muris   \n",
       "\n",
       "                                               eval                         \\\n",
       "            method use_sot n_way n_shot test/acc_ci val/acc_std    val/acc   \n",
       "id                                                                           \n",
       "1fjek4v6  protonet    True     2      1    0.586472    6.830792  97.083333   \n",
       "onltvph0  protonet   False     2      1    1.231823   15.620499  91.000000   \n",
       "w93rkihk  protonet    True     2      5    0.268570    2.687419  99.333333   \n",
       "12cd0470  protonet   False     2      5    0.819714   10.510894  95.433333   \n",
       "sua9fxt8  protonet    True     2     10    0.438099    4.598430  98.766667   \n",
       "\n",
       "          ...                                                                \\\n",
       "          ...  train/acc train/acc_ci train/acc_std val/acc_ci test/acc_std   \n",
       "id        ...                                                                 \n",
       "1fjek4v6  ...  97.800000     0.517496      6.467354   0.546577     7.329374   \n",
       "onltvph0  ...  92.433333     1.080706     13.506007   1.249900    15.394579   \n",
       "w93rkihk  ...  99.566667     0.169342      2.116339   0.215038     3.356420   \n",
       "12cd0470  ...  96.883333     0.677956      8.472685   0.841047    10.244294   \n",
       "sua9fxt8  ...  99.700000     0.171181      2.139315   0.367951     5.475095   \n",
       "\n",
       "                    hyperparam                                            \n",
       "           test/acc         lr sot_reg sot_sinkhorn_iter sot_dist_metric  \n",
       "id                                                                        \n",
       "1fjek4v6  96.716667      0.001     0.1                10          cosine  \n",
       "onltvph0  90.416667      0.001     0.1                10          cosine  \n",
       "w93rkihk  98.966667      0.001     0.1                10          cosine  \n",
       "12cd0470  94.766667      0.001     0.1                10          cosine  \n",
       "sua9fxt8  98.700000      0.001     0.1                10          cosine  \n",
       "\n",
       "[5 rows x 22 columns]"
      ]
     },
     "execution_count": 12,
     "metadata": {},
     "output_type": "execute_result"
    }
   ],
   "source": [
    "# Load runs into dataframe\n",
    "df_runs = utils.load_to_df(group_runs)\n",
    "print(f\"✅ Loaded {len(df_runs)} runs.\")\n",
    "\n",
    "df_runs.head()"
   ]
  },
  {
   "cell_type": "markdown",
   "metadata": {},
   "source": [
    "Only keep the best run for each experiment configuration. This only has an\n",
    "effect if hyperparameter tuning was performed.\n"
   ]
  },
  {
   "cell_type": "code",
   "execution_count": 13,
   "metadata": {
    "ExecuteTime": {
     "end_time": "2023-12-11T14:05:03.032924Z",
     "start_time": "2023-12-11T14:05:03.031549Z"
    }
   },
   "outputs": [
    {
     "name": "stdout",
     "output_type": "stream",
     "text": [
      "✅ Filtered to 50 best runs.\n"
     ]
    },
    {
     "data": {
      "text/html": [
       "<div>\n",
       "<style scoped>\n",
       "    .dataframe tbody tr th:only-of-type {\n",
       "        vertical-align: middle;\n",
       "    }\n",
       "\n",
       "    .dataframe tbody tr th {\n",
       "        vertical-align: top;\n",
       "    }\n",
       "\n",
       "    .dataframe thead tr th {\n",
       "        text-align: left;\n",
       "    }\n",
       "</style>\n",
       "<table border=\"1\" class=\"dataframe\">\n",
       "  <thead>\n",
       "    <tr>\n",
       "      <th></th>\n",
       "      <th colspan=\"2\" halign=\"left\">info</th>\n",
       "      <th colspan=\"5\" halign=\"left\">config</th>\n",
       "      <th colspan=\"10\" halign=\"left\">eval</th>\n",
       "      <th colspan=\"4\" halign=\"left\">hyperparam</th>\n",
       "    </tr>\n",
       "    <tr>\n",
       "      <th></th>\n",
       "      <th>name</th>\n",
       "      <th>runtime</th>\n",
       "      <th>dataset</th>\n",
       "      <th>method</th>\n",
       "      <th>use_sot</th>\n",
       "      <th>n_way</th>\n",
       "      <th>n_shot</th>\n",
       "      <th>test/acc_ci</th>\n",
       "      <th>val/acc_std</th>\n",
       "      <th>val/acc</th>\n",
       "      <th>...</th>\n",
       "      <th>train/acc</th>\n",
       "      <th>train/acc_ci</th>\n",
       "      <th>train/acc_std</th>\n",
       "      <th>val/acc_ci</th>\n",
       "      <th>test/acc_std</th>\n",
       "      <th>test/acc</th>\n",
       "      <th>lr</th>\n",
       "      <th>sot_reg</th>\n",
       "      <th>sot_sinkhorn_iter</th>\n",
       "      <th>sot_dist_metric</th>\n",
       "    </tr>\n",
       "  </thead>\n",
       "  <tbody>\n",
       "    <tr>\n",
       "      <th>1fjek4v6</th>\n",
       "      <td>protonet-tabula_muris-sot-2-way-1-shot</td>\n",
       "      <td>10.146370</td>\n",
       "      <td>tabula_muris</td>\n",
       "      <td>protonet</td>\n",
       "      <td>True</td>\n",
       "      <td>2</td>\n",
       "      <td>1</td>\n",
       "      <td>0.586472</td>\n",
       "      <td>6.830792</td>\n",
       "      <td>97.083333</td>\n",
       "      <td>...</td>\n",
       "      <td>97.800000</td>\n",
       "      <td>0.517496</td>\n",
       "      <td>6.467354</td>\n",
       "      <td>0.546577</td>\n",
       "      <td>7.329374</td>\n",
       "      <td>96.716667</td>\n",
       "      <td>0.001</td>\n",
       "      <td>0.1</td>\n",
       "      <td>10</td>\n",
       "      <td>cosine</td>\n",
       "    </tr>\n",
       "    <tr>\n",
       "      <th>onltvph0</th>\n",
       "      <td>protonet-tabula_muris-2-way-1-shot</td>\n",
       "      <td>5.802267</td>\n",
       "      <td>tabula_muris</td>\n",
       "      <td>protonet</td>\n",
       "      <td>False</td>\n",
       "      <td>2</td>\n",
       "      <td>1</td>\n",
       "      <td>1.231823</td>\n",
       "      <td>15.620499</td>\n",
       "      <td>91.000000</td>\n",
       "      <td>...</td>\n",
       "      <td>92.433333</td>\n",
       "      <td>1.080706</td>\n",
       "      <td>13.506007</td>\n",
       "      <td>1.249900</td>\n",
       "      <td>15.394579</td>\n",
       "      <td>90.416667</td>\n",
       "      <td>0.001</td>\n",
       "      <td>0.1</td>\n",
       "      <td>10</td>\n",
       "      <td>cosine</td>\n",
       "    </tr>\n",
       "    <tr>\n",
       "      <th>w93rkihk</th>\n",
       "      <td>protonet-tabula_muris-sot-2-way-5-shot</td>\n",
       "      <td>20.586317</td>\n",
       "      <td>tabula_muris</td>\n",
       "      <td>protonet</td>\n",
       "      <td>True</td>\n",
       "      <td>2</td>\n",
       "      <td>5</td>\n",
       "      <td>0.268570</td>\n",
       "      <td>2.687419</td>\n",
       "      <td>99.333333</td>\n",
       "      <td>...</td>\n",
       "      <td>99.566667</td>\n",
       "      <td>0.169342</td>\n",
       "      <td>2.116339</td>\n",
       "      <td>0.215038</td>\n",
       "      <td>3.356420</td>\n",
       "      <td>98.966667</td>\n",
       "      <td>0.001</td>\n",
       "      <td>0.1</td>\n",
       "      <td>10</td>\n",
       "      <td>cosine</td>\n",
       "    </tr>\n",
       "    <tr>\n",
       "      <th>12cd0470</th>\n",
       "      <td>protonet-tabula_muris-2-way-5-shot</td>\n",
       "      <td>9.851200</td>\n",
       "      <td>tabula_muris</td>\n",
       "      <td>protonet</td>\n",
       "      <td>False</td>\n",
       "      <td>2</td>\n",
       "      <td>5</td>\n",
       "      <td>0.819714</td>\n",
       "      <td>10.510894</td>\n",
       "      <td>95.433333</td>\n",
       "      <td>...</td>\n",
       "      <td>96.883333</td>\n",
       "      <td>0.677956</td>\n",
       "      <td>8.472685</td>\n",
       "      <td>0.841047</td>\n",
       "      <td>10.244294</td>\n",
       "      <td>94.766667</td>\n",
       "      <td>0.001</td>\n",
       "      <td>0.1</td>\n",
       "      <td>10</td>\n",
       "      <td>cosine</td>\n",
       "    </tr>\n",
       "    <tr>\n",
       "      <th>sua9fxt8</th>\n",
       "      <td>protonet-tabula_muris-sot-2-way-10-shot</td>\n",
       "      <td>26.501602</td>\n",
       "      <td>tabula_muris</td>\n",
       "      <td>protonet</td>\n",
       "      <td>True</td>\n",
       "      <td>2</td>\n",
       "      <td>10</td>\n",
       "      <td>0.438099</td>\n",
       "      <td>4.598430</td>\n",
       "      <td>98.766667</td>\n",
       "      <td>...</td>\n",
       "      <td>99.700000</td>\n",
       "      <td>0.171181</td>\n",
       "      <td>2.139315</td>\n",
       "      <td>0.367951</td>\n",
       "      <td>5.475095</td>\n",
       "      <td>98.700000</td>\n",
       "      <td>0.001</td>\n",
       "      <td>0.1</td>\n",
       "      <td>10</td>\n",
       "      <td>cosine</td>\n",
       "    </tr>\n",
       "  </tbody>\n",
       "</table>\n",
       "<p>5 rows × 22 columns</p>\n",
       "</div>"
      ],
      "text/plain": [
       "                                             info                   config  \\\n",
       "                                             name    runtime       dataset   \n",
       "1fjek4v6   protonet-tabula_muris-sot-2-way-1-shot  10.146370  tabula_muris   \n",
       "onltvph0       protonet-tabula_muris-2-way-1-shot   5.802267  tabula_muris   \n",
       "w93rkihk   protonet-tabula_muris-sot-2-way-5-shot  20.586317  tabula_muris   \n",
       "12cd0470       protonet-tabula_muris-2-way-5-shot   9.851200  tabula_muris   \n",
       "sua9fxt8  protonet-tabula_muris-sot-2-way-10-shot  26.501602  tabula_muris   \n",
       "\n",
       "                                               eval                         \\\n",
       "            method use_sot n_way n_shot test/acc_ci val/acc_std    val/acc   \n",
       "1fjek4v6  protonet    True     2      1    0.586472    6.830792  97.083333   \n",
       "onltvph0  protonet   False     2      1    1.231823   15.620499  91.000000   \n",
       "w93rkihk  protonet    True     2      5    0.268570    2.687419  99.333333   \n",
       "12cd0470  protonet   False     2      5    0.819714   10.510894  95.433333   \n",
       "sua9fxt8  protonet    True     2     10    0.438099    4.598430  98.766667   \n",
       "\n",
       "          ...                                                                \\\n",
       "          ...  train/acc train/acc_ci train/acc_std val/acc_ci test/acc_std   \n",
       "1fjek4v6  ...  97.800000     0.517496      6.467354   0.546577     7.329374   \n",
       "onltvph0  ...  92.433333     1.080706     13.506007   1.249900    15.394579   \n",
       "w93rkihk  ...  99.566667     0.169342      2.116339   0.215038     3.356420   \n",
       "12cd0470  ...  96.883333     0.677956      8.472685   0.841047    10.244294   \n",
       "sua9fxt8  ...  99.700000     0.171181      2.139315   0.367951     5.475095   \n",
       "\n",
       "                    hyperparam                                            \n",
       "           test/acc         lr sot_reg sot_sinkhorn_iter sot_dist_metric  \n",
       "1fjek4v6  96.716667      0.001     0.1                10          cosine  \n",
       "onltvph0  90.416667      0.001     0.1                10          cosine  \n",
       "w93rkihk  98.966667      0.001     0.1                10          cosine  \n",
       "12cd0470  94.766667      0.001     0.1                10          cosine  \n",
       "sua9fxt8  98.700000      0.001     0.1                10          cosine  \n",
       "\n",
       "[5 rows x 22 columns]"
      ]
     },
     "execution_count": 13,
     "metadata": {},
     "output_type": "execute_result"
    }
   ],
   "source": [
    "# Group tuning runs by experiment configuration\n",
    "df_best_runs = utils.get_best_run(df_runs, metric=(\"eval\", \"val/acc\"))\n",
    "print(f\"✅ Filtered to {len(df_best_runs)} best runs.\")\n",
    "\n",
    "df_best_runs.head()"
   ]
  },
  {
   "cell_type": "markdown",
   "metadata": {},
   "source": [
    "### Shot-Way-Analysis\n",
    "\n",
    "Display the test/acc as a function of the number of shots per class and the\n",
    "number of classes to distinguish between the different methods for ProtoNet\n",
    "without and with SOT.\n"
   ]
  },
  {
   "cell_type": "code",
   "execution_count": 14,
   "metadata": {
    "ExecuteTime": {
     "start_time": "2023-12-11T14:05:03.033046Z"
    }
   },
   "outputs": [
    {
     "name": "stdout",
     "output_type": "stream",
     "text": [
      "✅ Saved figure to /Users/ludekcizinsky/Dev/personal/few-shot-benchmark/figures.\n"
     ]
    },
    {
     "data": {
      "image/png": "[encoded data removed]",
      "text/plain": [
       "<Figure size 700x350 with 2 Axes>"
      ]
     },
     "metadata": {},
     "output_type": "display_data"
    }
   ],
   "source": [
    "# Set context to paper\n",
    "sns.set_context(\"paper\")\n",
    "sns.set_style(\"dark\")\n",
    "\n",
    "# Plot test/acc vs. n_shot for SOT and non-SOT methods\n",
    "fig, axs = plt.subplots(ncols=2, figsize=(7, 3.5), sharey=True)\n",
    "\n",
    "# test/acc ~ n_shot\n",
    "sns.scatterplot(\n",
    "    data=df_best_runs,\n",
    "    x=(\"config\", \"n_way\"),\n",
    "    y=(\"eval\", \"test/acc\"),\n",
    "    hue=(\"config\", \"use_sot\"),\n",
    "    alpha=0.25,\n",
    "    legend=True,\n",
    "    ax=axs[0],\n",
    ")\n",
    "sns.lineplot(\n",
    "    data=df_best_runs,\n",
    "    x=(\"config\", \"n_way\"),\n",
    "    y=(\"eval\", \"test/acc\"),\n",
    "    hue=(\"config\", \"use_sot\"),\n",
    "    legend=False,\n",
    "    ax=axs[0],\n",
    ")\n",
    "\n",
    "# test/acc ~ n_way\n",
    "sns.scatterplot(\n",
    "    data=df_best_runs,\n",
    "    x=(\"config\", \"n_shot\"),\n",
    "    y=(\"eval\", \"test/acc\"),\n",
    "    hue=(\"config\", \"use_sot\"),\n",
    "    alpha=0.25,\n",
    "    legend=False,\n",
    "    ax=axs[1],\n",
    ")\n",
    "sns.lineplot(\n",
    "    data=df_best_runs,\n",
    "    x=(\"config\", \"n_shot\"),\n",
    "    y=(\"eval\", \"test/acc\"),\n",
    "    hue=(\"config\", \"use_sot\"),\n",
    "    legend=False,\n",
    "    ax=axs[1],\n",
    ")\n",
    "\n",
    "# Set label size\n",
    "labsize = 14\n",
    "\n",
    "# Set title of the legend, adjust font size\n",
    "axs[0].get_legend().set_title(\"SOT\", prop={\"size\": 1})\n",
    "for t in axs[0].get_legend().texts:\n",
    "    t.set_fontsize(12)\n",
    "\n",
    "# Set axis labels\n",
    "axs[0].set_xlabel(\"N-Way\", size=labsize)\n",
    "axs[1].set_xlabel(\"N-Shot\", size=labsize)\n",
    "\n",
    "# Add padding between label of x-axis and tick labels\n",
    "axs[0].xaxis.labelpad = 10\n",
    "axs[1].xaxis.labelpad = 10\n",
    "\n",
    "# Set axis labels\n",
    "axs[0].set_ylabel(\"Val. Acc. (%)\", size=labsize)\n",
    "axs[1].set_ylabel(\"\")\n",
    "\n",
    "# Make the ticks descroptors bigger\n",
    "axs[0].tick_params(labelsize=12)\n",
    "axs[1].tick_params(labelsize=12)\n",
    "\n",
    "# Set the tight layout\n",
    "fig.tight_layout(pad=1.0)\n",
    "\n",
    "# Save figure\n",
    "fig.savefig(os.path.join(FIGURE_DIR, \"way-shot.pdf\"), bbox_inches=\"tight\")\n",
    "print(f\"✅ Saved figure to {FIGURE_DIR}.\")"
   ]
  },
  {
   "cell_type": "markdown",
   "metadata": {},
   "source": [
    "## Experiment 3: SOT Interaction\n",
    "\n",
    "---\n",
    "\n",
    "We found that SOT interacts in an interesting manner with the re-embedding\n",
    "modules in distance-based few-shot learners like `ProtoNet` and `MatchingNet`.\n",
    "In this experiment, we investigate this interaction in more detail. To do this,\n",
    "we trained `MatchingNet` by enabling the SOT and LSTM embedding for support and\n",
    "query samples and observe the performance on the test set.\n"
   ]
  },
  {
   "cell_type": "code",
   "execution_count": 15,
   "metadata": {
    "ExecuteTime": {
     "start_time": "2023-12-11T14:05:03.034600Z"
    }
   },
   "outputs": [
    {
     "name": "stdout",
     "output_type": "stream",
     "text": [
      "✅ Loaded 8 runs\n"
     ]
    }
   ],
   "source": [
    "# Experiments\n",
    "GROUP = \"sot-interaction\"\n",
    "\n",
    "# Filter runs by group\n",
    "group_runs = {\n",
    "    run.id: run for run in runs if run.group == GROUP and run.state == \"finished\"\n",
    "}\n",
    "print(f\"✅ Loaded {len(group_runs)} runs\")"
   ]
  },
  {
   "cell_type": "code",
   "execution_count": 16,
   "metadata": {
    "ExecuteTime": {
     "start_time": "2023-12-11T14:05:03.036007Z"
    }
   },
   "outputs": [
    {
     "name": "stdout",
     "output_type": "stream",
     "text": [
      "✅ Added meta-information.\n"
     ]
    }
   ],
   "source": [
    "# Load runs into dataframe\n",
    "df_runs = utils.load_to_df(group_runs.values())\n",
    "\n",
    "# Load additional information\n",
    "embed_support = [run.config[\"method\"][\"embed_support\"] for run in group_runs.values()]\n",
    "embed_query = [run.config[\"method\"][\"embed_query\"] for run in group_runs.values()]\n",
    "df_runs[(\"config\", \"embed_support\")] = embed_support\n",
    "df_runs[(\"config\", \"embed_query\")] = embed_query\n",
    "print(f\"✅ Added meta-information.\")"
   ]
  },
  {
   "cell_type": "code",
   "execution_count": 17,
   "metadata": {
    "ExecuteTime": {
     "start_time": "2023-12-11T14:05:03.037618Z"
    }
   },
   "outputs": [
    {
     "name": "stdout",
     "output_type": "stream",
     "text": [
      "✅ Saved figure to /Users/ludekcizinsky/Dev/personal/few-shot-benchmark/figures.\n"
     ]
    },
    {
     "data": {
      "image/png": "[encoded data removed]",
      "text/plain": [
       "<Figure size 2000x500 with 1 Axes>"
      ]
     },
     "metadata": {},
     "output_type": "display_data"
    }
   ],
   "source": [
    "# Plot test/acc vs. name\n",
    "fig, ax = plt.subplots(figsize=(20, 5))\n",
    "sns.barplot(\n",
    "    data=df_runs.sort_values(by=(\"eval\", \"test/acc\"), ascending=False),\n",
    "    x=(\"info\", \"name\"),\n",
    "    y=(\"eval\", \"test/acc\"),\n",
    "    palette=\"RdBu\",\n",
    ")\n",
    "ax.set_xlabel(\"Method\")\n",
    "ax.set_ylabel(\"Test Acc. (%)\")\n",
    "\n",
    "# Set axis labels\n",
    "labels = []\n",
    "for exp in [l.get_text().split(\"-\")[1::2] for l in ax.get_xticklabels()]:\n",
    "    name = []\n",
    "    if exp[0] == \"true\":\n",
    "        name.append(\"SOT\")\n",
    "    if exp[1] == \"true\":\n",
    "        name.append(\"SE\")\n",
    "    if exp[2] == \"true\":\n",
    "        name.append(\"QE\")\n",
    "\n",
    "    labels.append(\" + \".join(name))\n",
    "ax.set_xticklabels(labels)\n",
    "\n",
    "# Save figure\n",
    "fig.savefig(os.path.join(FIGURE_DIR, \"sot-interaction.pdf\"),\n",
    "            bbox_inches=\"tight\")\n",
    "print(f\"✅ Saved figure to {FIGURE_DIR}.\")"
   ]
  },
  {
   "cell_type": "code",
   "execution_count": 36,
   "metadata": {
    "ExecuteTime": {
     "end_time": "2023-12-11T14:05:03.077225Z",
     "start_time": "2023-12-11T14:05:03.038966Z"
    }
   },
   "outputs": [
    {
     "name": "stdout",
     "output_type": "stream",
     "text": [
      "✅ Saved figure to /Users/ludekcizinsky/Dev/personal/few-shot-benchmark/figures.\n"
     ]
    },
    {
     "data": {
      "image/png": "[encoded data removed]",
      "text/plain": [
       "<Figure size 500x500 with 1 Axes>"
      ]
     },
     "metadata": {},
     "output_type": "display_data"
    }
   ],
   "source": [
    "# Scatterplot of interaction between support, query and SOT embeddings\n",
    "fig, ax = plt.subplots(figsize=(5, 5))\n",
    "sns.scatterplot(\n",
    "    df_runs,\n",
    "    x=(\"config\", \"embed_support\"),\n",
    "    y=(\"config\", \"embed_query\"),\n",
    "    hue=(\"config\", \"use_sot\"),\n",
    "    size=(\"eval\", \"test/acc\"),\n",
    "    sizes=(100, 5000),\n",
    "    linewidth=0,\n",
    ")\n",
    "\n",
    "# Set label size\n",
    "labsize = 14\n",
    "\n",
    "# Set the labels and ticks of the axes\n",
    "ax.set_xlim(-0.5, 1.5)\n",
    "ax.set_ylim(-0.5, 1.5)\n",
    "ax.set_xticks([0, 1])\n",
    "ax.set_yticks([0, 1])\n",
    "ax.set_xticklabels([\"No\", \"Yes\"])\n",
    "ax.set_yticklabels([\"No\", \"Yes\"])\n",
    "ax.set(\n",
    "    xlabel=\"Embed Support\",\n",
    "    ylabel=\"Embed Query\",\n",
    ")\n",
    "\n",
    "# Set x and y axis labels size\n",
    "ax.xaxis.label.set_size(labsize)\n",
    "ax.yaxis.label.set_size(labsize)\n",
    "\n",
    "\n",
    "# Add the accuarcy as text to the scatterplot\n",
    "for i, row in df_runs.iterrows():\n",
    "\n",
    "    # Get sot flag\n",
    "    is_sot = row[(\"config\", \"use_sot\")]\n",
    "\n",
    "    # Decide on the color of the text based on the SOT flag, use \n",
    "    color = sns.color_palette()[1] if is_sot else sns.color_palette()[0] \n",
    "\n",
    "    # Define the offset of the text\n",
    "    y_offset = 0.3 \n",
    "    x_offset = 0.17 if is_sot else -0.17\n",
    "\n",
    "    # Add accuracies horizontally centered above the scatterplot\n",
    "    ax.text(\n",
    "        x=row[(\"config\", \"embed_support\")] + x_offset,\n",
    "        y=row[(\"config\", \"embed_query\")] + y_offset,\n",
    "        s=f\"{row[('eval', 'test/acc')]:.2f}%\",\n",
    "        color=color,\n",
    "        horizontalalignment=\"center\",\n",
    "        size=12,\n",
    "    )\n",
    "\n",
    "# Make the ticks descroptors bigger\n",
    "ax.tick_params(labelsize=labsize)\n",
    "\n",
    "# Tight layout\n",
    "fig.tight_layout(pad=1.0)\n",
    "\n",
    "# Remove the legend\n",
    "ax.get_legend().remove()\n",
    "\n",
    "# Add a new custom legend\n",
    "handles, labels = ax.get_legend_handles_labels()\n",
    "labels = [\"No\", \"Yes\"]\n",
    "handles = [handles[1], handles[2]]\n",
    "ax.legend(handles, labels, title=\"SOT\", loc=\"lower left\");\n",
    "\n",
    "# Save figure\n",
    "fig.savefig(os.path.join(FIGURE_DIR, \"sot-interaction-scatter.pdf\"), bbox_inches=\"tight\")\n",
    "print(f\"✅ Saved figure to {FIGURE_DIR}.\")"
   ]
  },
  {
   "cell_type": "code",
   "execution_count": 19,
   "metadata": {
    "ExecuteTime": {
     "start_time": "2023-12-11T14:05:03.040200Z"
    }
   },
   "outputs": [
    {
     "name": "stdout",
     "output_type": "stream",
     "text": [
      "✅ Saved figure to /Users/ludekcizinsky/Dev/personal/few-shot-benchmark/figures.\n"
     ]
    },
    {
     "data": {
      "image/png": "[encoded data removed]",
      "text/plain": [
       "<Figure size 500x500 with 1 Axes>"
      ]
     },
     "metadata": {},
     "output_type": "display_data"
    }
   ],
   "source": [
    "def is_interaction(row):\n",
    "    support, query, sot = (\n",
    "        row[(\"config\", \"embed_support\")],\n",
    "        row[(\"config\", \"embed_query\")],\n",
    "        row[(\"config\", \"use_sot\")],\n",
    "    )\n",
    "    if (support | query) & sot:\n",
    "        return True\n",
    "    else:\n",
    "        return False\n",
    "\n",
    "\n",
    "df_runs[(\"config\", \"interaction\")] = df_runs.apply(is_interaction, axis=1)\n",
    "\n",
    "fig, ax = plt.subplots(figsize=(5, 5))\n",
    "sns.barplot(\n",
    "    df_runs,\n",
    "    x=(\"config\", \"interaction\"),\n",
    "    y=(\"eval\", \"test/acc\"),\n",
    "    ax=ax,\n",
    ")\n",
    "ax.scatter(\n",
    "    x=df_runs[(\"config\", \"interaction\")],\n",
    "    y=df_runs[(\"eval\", \"test/acc\")],\n",
    "    c=\"black\",\n",
    "    alpha=1,\n",
    "    marker=\"x\",\n",
    "    zorder=100,\n",
    ")\n",
    "\n",
    "ax.set_xticklabels([\"No\", \"Yes\"])\n",
    "ax.set_xlabel(\"Interaction\")\n",
    "ax.set_ylabel(\"Test Acc. (%)\")\n",
    "\n",
    "# Save figure\n",
    "fig.savefig(os.path.join(FIGURE_DIR, \"sot-interaction-2.pdf\"), bbox_inches=\"tight\")\n",
    "print(f\"✅ Saved figure to {FIGURE_DIR}.\")"
   ]
  },
  {
   "cell_type": "markdown",
   "metadata": {},
   "source": [
    "## Experiment 4: Understanding model performance\n",
    "\n",
    "---\n",
    "\n",
    "The goal of this section will be to compare the improvements of the SOT feature\n",
    "transform. We will try to understand the improvements by looking at:\n",
    "\n",
    "- **Embeddings during forward-pass**. Visualise the embeddings of support and\n",
    "  query samples during episodes with and without SOT enabled.\n",
    "- **Visualise the self-optimal transport plan.** Visualise the self-optimal\n",
    "  transport plan for a few episodes via a heat map.\n",
    "- **Understand model prediction patterns and errors.** Visualise the model\n",
    "  predictions and errors for a few episodes with and without SOT enabled.\n",
    "\n",
    "To get started, we will load two pre-trained models from the benchmarking\n",
    "experiment. We will use two instances of `protonet` that were both trained on\n",
    "the `tabula_muris` dataset. The first model was trained with the default\n",
    "configuration, while the second model was trained with the same configuration\n",
    "but with the `use_sot` flag set to `True`.\n"
   ]
  },
  {
   "cell_type": "code",
   "execution_count": null,
   "metadata": {
    "ExecuteTime": {
     "start_time": "2023-12-11T14:05:03.041139Z"
    }
   },
   "outputs": [],
   "source": [
    "# Experiments\n",
    "GROUP = \"model-behaviour\"\n",
    "\n",
    "# Filter runs by group\n",
    "runs = [run for run in runs if run.group == GROUP and run.state == \"finished\"]\n",
    "print(f\"✅ Loaded {len(runs)} runs\")\n",
    "\n",
    "# Load runs into dataframe\n",
    "df_runs = utils.load_to_df(runs)\n",
    "\n",
    "df_runs.head()"
   ]
  },
  {
   "cell_type": "code",
   "execution_count": null,
   "metadata": {
    "ExecuteTime": {
     "start_time": "2023-12-11T14:05:03.042125Z"
    }
   },
   "outputs": [],
   "source": [
    "# Initialise data loaders and model\n",
    "models = []\n",
    "for run in runs:\n",
    "    # Load data loaders and model\n",
    "    train_loader, val_loader, test_loader, model = utils.init_all(run)\n",
    "    models.append(model)\n",
    "\n",
    "print(f\"✅ Initialised data loader and model.\")"
   ]
  },
  {
   "cell_type": "code",
   "execution_count": null,
   "metadata": {
    "ExecuteTime": {
     "start_time": "2023-12-11T14:05:03.043069Z"
    }
   },
   "outputs": [],
   "source": [
    "# Download artifact (model weights)\n",
    "for run in runs:\n",
    "    utils.download_artifact(\n",
    "        api,\n",
    "        wandb_entity=WANDB_ENTITY,\n",
    "        wandb_project=WANDB_PROJECT,\n",
    "        artifact_dir=ARTIFACT_DIR,\n",
    "        run_id=run.id,\n",
    "    )"
   ]
  },
  {
   "cell_type": "code",
   "execution_count": null,
   "metadata": {
    "ExecuteTime": {
     "start_time": "2023-12-11T14:05:03.044010Z"
    }
   },
   "outputs": [],
   "source": [
    "# Load model weights\n",
    "weight_path = os.path.join(ARTIFACT_DIR, runs[0].id, \"best_model.pt\")\n",
    "models[0].load_state_dict(torch.load(weight_path))\n",
    "\n",
    "weight_path = os.path.join(ARTIFACT_DIR, runs[1].id, \"best_model.pt\")\n",
    "models[1].load_state_dict(torch.load(weight_path))\n",
    "\n",
    "print(f\"✅ Loaded both model weights.\")"
   ]
  },
  {
   "cell_type": "code",
   "execution_count": null,
   "metadata": {
    "ExecuteTime": {
     "start_time": "2023-12-11T14:05:03.045066Z"
    }
   },
   "outputs": [],
   "source": [
    "# Evaluate performance\n",
    "print(\"Evaluating model with SOT...\")\n",
    "models[0].test_loop(train_loader)\n",
    "models[0].test_loop(val_loader)\n",
    "models[0].test_loop(test_loader)\n",
    "\n",
    "print(\"\\nEvaluating model without SOT...\")\n",
    "models[1].test_loop(train_loader)\n",
    "models[1].test_loop(val_loader)\n",
    "models[1].test_loop(test_loader)\n",
    "\n",
    "print(f\"✅ Evaluated both models.\")"
   ]
  },
  {
   "cell_type": "markdown",
   "metadata": {},
   "source": [
    "We have correctly loaded the model weights by confirming the performance on the\n",
    "`train`, `val` and `test` split for ProtoNet on SwissProt with and without SOT.\n"
   ]
  },
  {
   "cell_type": "markdown",
   "metadata": {},
   "source": [
    "### Visualise Embeddings\n"
   ]
  },
  {
   "cell_type": "code",
   "execution_count": null,
   "metadata": {
    "ExecuteTime": {
     "start_time": "2023-12-11T14:05:03.045954Z"
    }
   },
   "outputs": [],
   "source": [
    "# Visualise episode for Protnet w/ SOT\n",
    "for loader in [train_loader, val_loader, test_loader]:\n",
    "    utils.visualise_episode(train_loader, models[0])"
   ]
  },
  {
   "cell_type": "code",
   "execution_count": null,
   "metadata": {
    "ExecuteTime": {
     "start_time": "2023-12-11T14:05:03.046829Z"
    }
   },
   "outputs": [],
   "source": [
    "# Visualise episode for Protnet w/ SOT\n",
    "for loader in [train_loader, val_loader, test_loader]:\n",
    "    utils.visualise_episode(train_loader, models[1])"
   ]
  },
  {
   "cell_type": "markdown",
   "metadata": {},
   "source": [
    "### Visualise SOT transport plan\n",
    "\n",
    "Here we visualise the self-optimal transport plan for a few episodes.\n"
   ]
  },
  {
   "cell_type": "code",
   "execution_count": null,
   "metadata": {
    "ExecuteTime": {
     "start_time": "2023-12-11T14:05:03.047715Z"
    }
   },
   "outputs": [],
   "source": [
    "# Visualise transport plan for Protonet w/ SOT on train\n",
    "fig, axs = plt.subplots(ncols=3, figsize=(20, 5))\n",
    "for ax, loader in zip(axs, [train_loader, val_loader, test_loader]):\n",
    "    utils.visualise_transport_plan(train_loader, models[0], ax=ax)"
   ]
  },
  {
   "cell_type": "markdown",
   "metadata": {},
   "source": [
    "### Visualise confusion patterns\n"
   ]
  },
  {
   "cell_type": "code",
   "execution_count": null,
   "metadata": {
    "ExecuteTime": {
     "start_time": "2023-12-11T14:05:03.048603Z"
    }
   },
   "outputs": [],
   "source": [
    "# Confusion matrix for Protonet w/ SOT on all splits\n",
    "fig, axs = plt.subplots(ncols=3, figsize=(20, 5))\n",
    "for ax, loader in zip(axs, [train_loader, val_loader, test_loader]):\n",
    "    utils.visualise_confusion_matrix(loader, models[0], ax=ax)"
   ]
  },
  {
   "cell_type": "code",
   "execution_count": null,
   "metadata": {
    "ExecuteTime": {
     "start_time": "2023-12-11T14:05:03.049573Z"
    }
   },
   "outputs": [],
   "source": [
    "# Confusion matrix for Protonet w/o SOT on all splits\n",
    "fig, axs = plt.subplots(ncols=3, figsize=(20, 5))\n",
    "for ax, loader in zip(axs, [train_loader, val_loader, test_loader]):\n",
    "    utils.visualise_confusion_matrix(loader, models[1], ax=ax)"
   ]
  }
 ],
 "metadata": {
  "kernelspec": {
   "display_name": "few-shot-benchmark",
   "language": "python",
   "name": "python3"
  },
  "language_info": {
   "codemirror_mode": {
    "name": "ipython",
    "version": 3
   },
   "file_extension": ".py",
   "mimetype": "text/x-python",
   "name": "python",
   "nbconvert_exporter": "python",
   "pygments_lexer": "ipython3",
   "version": "3.10.13"
  }
 },
 "nbformat": 4,
 "nbformat_minor": 2
}
