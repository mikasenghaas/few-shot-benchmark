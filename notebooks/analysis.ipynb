{
 "cells": [
  {
   "cell_type": "markdown",
   "metadata": {},
   "source": [
    "# Analysis\n",
    "\n",
    "This notebook contains the analysis of the data tracked on\n",
    "[Weights & Biases](https://wandb.ai/).\n"
   ]
  },
  {
   "cell_type": "markdown",
   "metadata": {},
   "source": [
    "## Setup\n",
    "\n",
    "---\n",
    "\n",
    "We will first setup everything so that we can easily analyse the experiment\n",
    "results. This includes importing the necessary libraries, setting paths, loading\n",
    "the experiment results from W&B.\n"
   ]
  },
  {
   "cell_type": "code",
   "execution_count": 1,
   "metadata": {
    "ExecuteTime": {
     "end_time": "2023-12-11T14:04:59.989806Z",
     "start_time": "2023-12-11T14:04:58.077712Z"
    }
   },
   "outputs": [],
   "source": [
    "# ruff: noqa\n",
    "%load_ext autoreload\n",
    "%autoreload 2\n",
    "\n",
    "# Bult-in modules\n",
    "import os\n",
    "import sys\n",
    "\n",
    "sys.path.insert(0, \"..\")\n",
    "\n",
    "# Ignore warnings\n",
    "import warnings\n",
    "\n",
    "warnings.filterwarnings(\"ignore\")\n",
    "\n",
    "# External modules\n",
    "# - Data Representation\n",
    "import pandas as pd\n",
    "import numpy as np\n",
    "\n",
    "# - Data Visualization\n",
    "from matplotlib import pyplot as plt\n",
    "import seaborn as sns\n",
    "import plotnine as pn\n",
    "\n",
    "# - Machine Learning\n",
    "import torch\n",
    "\n",
    "# - Experiment Configuration and Logging\n",
    "import wandb\n",
    "\n",
    "# Custom modules\n",
    "from utils import eval_utils as utils"
   ]
  },
  {
   "cell_type": "code",
   "execution_count": 2,
   "metadata": {
    "ExecuteTime": {
     "end_time": "2023-12-11T14:05:00.037347Z",
     "start_time": "2023-12-11T14:04:59.990981Z"
    }
   },
   "outputs": [],
   "source": [
    "# Setup of global variables\n",
    "ROOT_DIR = os.path.dirname(os.path.abspath(\".\"))\n",
    "ARTIFACT_DIR = os.path.join(ROOT_DIR, \"artifacts\")\n",
    "FIGURE_DIR = os.path.join(ROOT_DIR, \"figures\")\n",
    "TABLE_DIR = os.path.join(ROOT_DIR, \"tables\")\n",
    "\n",
    "METHODS = [\"baseline\", \"baseline_pp\", \"matchingnet\", \"protonet\", \"maml\"]\n",
    "METHODS_WITH_SOT = []\n",
    "for method in METHODS:\n",
    "    METHODS_WITH_SOT.append(method)\n",
    "    METHODS_WITH_SOT.append(method + \"_sot\")\n",
    "\n",
    "STYLED_METHODS = [\"Baseline\", \"Baseline++\", \"MatchingNet\", \"ProtoNet\", \"MAML\"]\n",
    "STYLED_METHODS_WITH_SOT = []\n",
    "for method in STYLED_METHODS:\n",
    "    STYLED_METHODS_WITH_SOT.append(method)\n",
    "    STYLED_METHODS_WITH_SOT.append(method + \" (SOT)\")\n",
    "\n",
    "styled_methods_dict = dict(zip(METHODS, STYLED_METHODS))\n",
    "\n",
    "\n",
    "def get_name(name, sot=False):\n",
    "    return styled_methods_dict[name] + (\" (SOT)\" if sot else \"\")"
   ]
  },
  {
   "cell_type": "code",
   "execution_count": 3,
   "metadata": {
    "ExecuteTime": {
     "end_time": "2023-12-11T14:05:00.090704Z",
     "start_time": "2023-12-11T14:05:00.023567Z"
    }
   },
   "outputs": [],
   "source": [
    "# Settings\n",
    "sns.set_style(\"dark\")\n",
    "colorstyle = \"RdBu\"\n",
    "sns.set_palette(colorstyle)"
   ]
  },
  {
   "cell_type": "code",
   "execution_count": 4,
   "metadata": {
    "ExecuteTime": {
     "end_time": "2023-12-11T14:05:00.325492Z",
     "start_time": "2023-12-11T14:05:00.052982Z"
    }
   },
   "outputs": [],
   "source": [
    "# Initialize wandb\n",
    "WANDB_PROJECT = \"few-shot-benchmark\"\n",
    "WANDB_ENTITY = \"metameta-learners\"\n",
    "\n",
    "# Initialize W&B API\n",
    "api = wandb.Api()\n",
    "\n",
    "# Get all runs\n",
    "runs = api.runs(f\"{WANDB_ENTITY}/{WANDB_PROJECT}\")"
   ]
  },
  {
   "cell_type": "markdown",
   "metadata": {},
   "source": [
    "## Experiment 1: Benchmark\n",
    "\n",
    "---\n",
    "\n",
    "All models on all datasets with and without SOT for fixed few-shot learning\n",
    "setting (5-way 5-shot).\n"
   ]
  },
  {
   "cell_type": "markdown",
   "metadata": {},
   "source": [
    "### Loading Experiment Data\n"
   ]
  },
  {
   "cell_type": "code",
   "execution_count": 12,
   "metadata": {
    "ExecuteTime": {
     "end_time": "2023-12-11T14:08:35.639863Z",
     "start_time": "2023-12-11T14:08:35.569809Z"
    }
   },
   "outputs": [
    {
     "name": "stdout",
     "output_type": "stream",
     "text": [
      "✅ Found 187 runs\n"
     ]
    }
   ],
   "source": [
    "# Get all runs for experiment `benchmark`\n",
    "GROUP = \"tuned-benchmark\"\n",
    "\n",
    "group_runs = [run for run in runs if run.group ==\n",
    "              GROUP and run.state == \"finished\"]\n",
    "print(f\"✅ Found {len(group_runs)} runs\")"
   ]
  },
  {
   "cell_type": "markdown",
   "metadata": {},
   "source": [
    "Next, we'll load all runs from the given experiment group into a single\n",
    "dataframe.\n"
   ]
  },
  {
   "cell_type": "code",
   "execution_count": 13,
   "metadata": {
    "ExecuteTime": {
     "end_time": "2023-12-11T14:08:36.955554Z",
     "start_time": "2023-12-11T14:08:36.862970Z"
    }
   },
   "outputs": [
    {
     "name": "stdout",
     "output_type": "stream",
     "text": [
      "✅ Loaded 187 runs.\n"
     ]
    },
    {
     "data": {
      "text/plain": "                                         info                config            \\\n                                         name    runtime    dataset    method   \nid                                                                              \nxhag25gy  protonet-swissprot-sot-5-way-5-shot  41.468315  swissprot  protonet   \nl44f5r3n  protonet-swissprot-sot-5-way-5-shot  59.784709  swissprot  protonet   \nsfge218r  protonet-swissprot-sot-5-way-5-shot  68.427992  swissprot  protonet   \ndmdcuf2o  protonet-swissprot-sot-5-way-5-shot  52.142571  swissprot  protonet   \nmrol34qm  protonet-swissprot-sot-5-way-5-shot  37.431727  swissprot  protonet   \n\n                                    eval                             ...  \\\n         use_sot n_way n_shot val/acc_ci train/acc_ci train/acc_std  ...   \nid                                                                   ...   \nxhag25gy    True     5      5   0.623834     0.528487      6.604712  ...   \nl44f5r3n    True     5      5   0.129876     0.057454      0.718022  ...   \nsfge218r    True     5      5   0.576652     0.294206      3.676804  ...   \ndmdcuf2o    True     5      5   0.184714     0.093008      1.162354  ...   \nmrol34qm    True     5      5   0.739377     0.688453      8.603865  ...   \n\n                                                                         \\\n         test/acc_std   test/acc  train/acc train/loss epoch    val/acc   \nid                                                                        \nxhag25gy     8.079373  80.520000  92.466667   0.244571    11  86.933333   \nl44f5r3n     1.754220  99.206667  99.866667   0.027856    20  99.453333   \nsfge218r     6.043913  87.533333  97.566667   0.078707    22  88.413333   \ndmdcuf2o     1.424718  99.513333  99.660000    0.03927    15  98.866667   \nmrol34qm     8.605298  76.046667  90.013333   0.271612    11  83.480000   \n\n         hyperparam                                            \n                 lr sot_reg sot_sinkhorn_iter sot_dist_metric  \nid                                                             \nxhag25gy     0.0010     1.0                10       euclidean  \nl44f5r3n     0.0010     0.1                10       euclidean  \nsfge218r     0.0010     1.0                10          cosine  \ndmdcuf2o     0.0010     0.1                10          cosine  \nmrol34qm     0.0005     1.0                10       euclidean  \n\n[5 rows x 22 columns]",
      "text/html": "<div>\n<style scoped>\n    .dataframe tbody tr th:only-of-type {\n        vertical-align: middle;\n    }\n\n    .dataframe tbody tr th {\n        vertical-align: top;\n    }\n\n    .dataframe thead tr th {\n        text-align: left;\n    }\n\n    .dataframe thead tr:last-of-type th {\n        text-align: right;\n    }\n</style>\n<table border=\"1\" class=\"dataframe\">\n  <thead>\n    <tr>\n      <th></th>\n      <th colspan=\"2\" halign=\"left\">info</th>\n      <th colspan=\"5\" halign=\"left\">config</th>\n      <th colspan=\"10\" halign=\"left\">eval</th>\n      <th colspan=\"4\" halign=\"left\">hyperparam</th>\n    </tr>\n    <tr>\n      <th></th>\n      <th>name</th>\n      <th>runtime</th>\n      <th>dataset</th>\n      <th>method</th>\n      <th>use_sot</th>\n      <th>n_way</th>\n      <th>n_shot</th>\n      <th>val/acc_ci</th>\n      <th>train/acc_ci</th>\n      <th>train/acc_std</th>\n      <th>...</th>\n      <th>test/acc_std</th>\n      <th>test/acc</th>\n      <th>train/acc</th>\n      <th>train/loss</th>\n      <th>epoch</th>\n      <th>val/acc</th>\n      <th>lr</th>\n      <th>sot_reg</th>\n      <th>sot_sinkhorn_iter</th>\n      <th>sot_dist_metric</th>\n    </tr>\n    <tr>\n      <th>id</th>\n      <th></th>\n      <th></th>\n      <th></th>\n      <th></th>\n      <th></th>\n      <th></th>\n      <th></th>\n      <th></th>\n      <th></th>\n      <th></th>\n      <th></th>\n      <th></th>\n      <th></th>\n      <th></th>\n      <th></th>\n      <th></th>\n      <th></th>\n      <th></th>\n      <th></th>\n      <th></th>\n      <th></th>\n    </tr>\n  </thead>\n  <tbody>\n    <tr>\n      <th>xhag25gy</th>\n      <td>protonet-swissprot-sot-5-way-5-shot</td>\n      <td>41.468315</td>\n      <td>swissprot</td>\n      <td>protonet</td>\n      <td>True</td>\n      <td>5</td>\n      <td>5</td>\n      <td>0.623834</td>\n      <td>0.528487</td>\n      <td>6.604712</td>\n      <td>...</td>\n      <td>8.079373</td>\n      <td>80.520000</td>\n      <td>92.466667</td>\n      <td>0.244571</td>\n      <td>11</td>\n      <td>86.933333</td>\n      <td>0.0010</td>\n      <td>1.0</td>\n      <td>10</td>\n      <td>euclidean</td>\n    </tr>\n    <tr>\n      <th>l44f5r3n</th>\n      <td>protonet-swissprot-sot-5-way-5-shot</td>\n      <td>59.784709</td>\n      <td>swissprot</td>\n      <td>protonet</td>\n      <td>True</td>\n      <td>5</td>\n      <td>5</td>\n      <td>0.129876</td>\n      <td>0.057454</td>\n      <td>0.718022</td>\n      <td>...</td>\n      <td>1.754220</td>\n      <td>99.206667</td>\n      <td>99.866667</td>\n      <td>0.027856</td>\n      <td>20</td>\n      <td>99.453333</td>\n      <td>0.0010</td>\n      <td>0.1</td>\n      <td>10</td>\n      <td>euclidean</td>\n    </tr>\n    <tr>\n      <th>sfge218r</th>\n      <td>protonet-swissprot-sot-5-way-5-shot</td>\n      <td>68.427992</td>\n      <td>swissprot</td>\n      <td>protonet</td>\n      <td>True</td>\n      <td>5</td>\n      <td>5</td>\n      <td>0.576652</td>\n      <td>0.294206</td>\n      <td>3.676804</td>\n      <td>...</td>\n      <td>6.043913</td>\n      <td>87.533333</td>\n      <td>97.566667</td>\n      <td>0.078707</td>\n      <td>22</td>\n      <td>88.413333</td>\n      <td>0.0010</td>\n      <td>1.0</td>\n      <td>10</td>\n      <td>cosine</td>\n    </tr>\n    <tr>\n      <th>dmdcuf2o</th>\n      <td>protonet-swissprot-sot-5-way-5-shot</td>\n      <td>52.142571</td>\n      <td>swissprot</td>\n      <td>protonet</td>\n      <td>True</td>\n      <td>5</td>\n      <td>5</td>\n      <td>0.184714</td>\n      <td>0.093008</td>\n      <td>1.162354</td>\n      <td>...</td>\n      <td>1.424718</td>\n      <td>99.513333</td>\n      <td>99.660000</td>\n      <td>0.03927</td>\n      <td>15</td>\n      <td>98.866667</td>\n      <td>0.0010</td>\n      <td>0.1</td>\n      <td>10</td>\n      <td>cosine</td>\n    </tr>\n    <tr>\n      <th>mrol34qm</th>\n      <td>protonet-swissprot-sot-5-way-5-shot</td>\n      <td>37.431727</td>\n      <td>swissprot</td>\n      <td>protonet</td>\n      <td>True</td>\n      <td>5</td>\n      <td>5</td>\n      <td>0.739377</td>\n      <td>0.688453</td>\n      <td>8.603865</td>\n      <td>...</td>\n      <td>8.605298</td>\n      <td>76.046667</td>\n      <td>90.013333</td>\n      <td>0.271612</td>\n      <td>11</td>\n      <td>83.480000</td>\n      <td>0.0005</td>\n      <td>1.0</td>\n      <td>10</td>\n      <td>euclidean</td>\n    </tr>\n  </tbody>\n</table>\n<p>5 rows × 22 columns</p>\n</div>"
     },
     "execution_count": 13,
     "metadata": {},
     "output_type": "execute_result"
    }
   ],
   "source": [
    "df_runs = utils.load_to_df(group_runs)\n",
    "print(f\"✅ Loaded {len(df_runs)} runs.\")\n",
    "\n",
    "df_runs.head()"
   ]
  },
  {
   "cell_type": "code",
   "execution_count": 15,
   "outputs": [
    {
     "data": {
      "text/plain": "array([0.001 , 0.0005])"
     },
     "execution_count": 15,
     "metadata": {},
     "output_type": "execute_result"
    }
   ],
   "source": [
    "df_runs[(\"hyperparam\", \"lr\")].unique()"
   ],
   "metadata": {
    "collapsed": false,
    "ExecuteTime": {
     "end_time": "2023-12-11T14:09:06.054798Z",
     "start_time": "2023-12-11T14:09:05.991096Z"
    }
   }
  },
  {
   "cell_type": "markdown",
   "metadata": {},
   "source": [
    "### Grouping\n",
    "\n",
    "Each experiment is uniquely identified by the following parameters:\n",
    "\n",
    "- `dataset`: The dataset used (`swissprot`, `tabula_muris`)\n",
    "- `method`: The model used (`baseline`, `baseline_pp`, `protonet`,\n",
    "  `matchingnet`, `maml`)\n",
    "- `use_sot`: Whether to include the SOT module (`True`, `False`)\n",
    "- `n_way`: The number of classes in each episode\n",
    "- `n_shot`: The number of support samples per class in each episode\n",
    "\n",
    "For each experiment setting, there are multiple trained models because of\n",
    "hyper-parameter tuning. We will group the runs by the above parameters and only\n",
    "use the best-performing model on the validation set for the following analysis.\n"
   ]
  },
  {
   "cell_type": "code",
   "execution_count": 8,
   "metadata": {
    "ExecuteTime": {
     "end_time": "2023-12-11T14:05:02.607240Z",
     "start_time": "2023-12-11T14:05:02.504502Z"
    }
   },
   "outputs": [
    {
     "name": "stdout",
     "output_type": "stream",
     "text": [
      "✅ Filtered to 20 best runs.\n"
     ]
    },
    {
     "data": {
      "text/plain": "                                         info                 config  \\\n                                         name     runtime    dataset   \nb8nsel6u   baseline_pp-swissprot-5-way-5-shot  425.823994  swissprot   \ncjapngmz  baseline-swissprot-sot-5-way-5-shot  192.907105  swissprot   \ntyclu7ws      baseline-swissprot-5-way-5-shot  227.742127  swissprot   \nfl25ptmt      maml-swissprot-sot-5-way-5-shot  160.371191  swissprot   \nb9ddy5jb          maml-swissprot-5-way-5-shot   61.361203  swissprot   \n\n                                                   eval                        \\\n               method use_sot n_way n_shot train/acc_ci  train/acc train/loss   \nb8nsel6u  baseline_pp   False     5      5     0.451698  94.673333   0.843166   \ncjapngmz     baseline    True     5      5     1.082008  65.633333   4.198379   \ntyclu7ws     baseline   False     5      5     0.611742  90.733333   0.504985   \nfl25ptmt         maml    True     5      5     0.166816  99.020000   0.497151   \nb9ddy5jb         maml   False     5      5     1.039781  76.273333   0.603924   \n\n          ...                                                        \\\n          ... epoch   test/acc val/acc_std val/acc_ci train/acc_std   \nb8nsel6u  ...    11  62.886667   11.262285   0.901170      5.645053   \ncjapngmz  ...     7  55.900000   13.303632   1.064512     13.522286   \ntyclu7ws  ...     9  68.086667   11.230575   0.898633      7.645187   \nfl25ptmt  ...    20  97.100000    2.729265   0.218387      2.084770   \nb9ddy5jb  ...    13  61.700000   11.997465   0.959997     12.994561   \n\n                    hyperparam                                            \n            val/acc         lr sot_reg sot_sinkhorn_iter sot_dist_metric  \nb8nsel6u  75.260000      0.001     0.1                10          cosine  \ncjapngmz  67.993333      0.001     0.1                10          cosine  \ntyclu7ws  78.086667      0.001     0.1                10          cosine  \nfl25ptmt  98.266667      0.001     0.1                10          cosine  \nb9ddy5jb  73.913333      0.001     0.1                10          cosine  \n\n[5 rows x 22 columns]",
      "text/html": "<div>\n<style scoped>\n    .dataframe tbody tr th:only-of-type {\n        vertical-align: middle;\n    }\n\n    .dataframe tbody tr th {\n        vertical-align: top;\n    }\n\n    .dataframe thead tr th {\n        text-align: left;\n    }\n</style>\n<table border=\"1\" class=\"dataframe\">\n  <thead>\n    <tr>\n      <th></th>\n      <th colspan=\"2\" halign=\"left\">info</th>\n      <th colspan=\"5\" halign=\"left\">config</th>\n      <th colspan=\"10\" halign=\"left\">eval</th>\n      <th colspan=\"4\" halign=\"left\">hyperparam</th>\n    </tr>\n    <tr>\n      <th></th>\n      <th>name</th>\n      <th>runtime</th>\n      <th>dataset</th>\n      <th>method</th>\n      <th>use_sot</th>\n      <th>n_way</th>\n      <th>n_shot</th>\n      <th>train/acc_ci</th>\n      <th>train/acc</th>\n      <th>train/loss</th>\n      <th>...</th>\n      <th>epoch</th>\n      <th>test/acc</th>\n      <th>val/acc_std</th>\n      <th>val/acc_ci</th>\n      <th>train/acc_std</th>\n      <th>val/acc</th>\n      <th>lr</th>\n      <th>sot_reg</th>\n      <th>sot_sinkhorn_iter</th>\n      <th>sot_dist_metric</th>\n    </tr>\n  </thead>\n  <tbody>\n    <tr>\n      <th>b8nsel6u</th>\n      <td>baseline_pp-swissprot-5-way-5-shot</td>\n      <td>425.823994</td>\n      <td>swissprot</td>\n      <td>baseline_pp</td>\n      <td>False</td>\n      <td>5</td>\n      <td>5</td>\n      <td>0.451698</td>\n      <td>94.673333</td>\n      <td>0.843166</td>\n      <td>...</td>\n      <td>11</td>\n      <td>62.886667</td>\n      <td>11.262285</td>\n      <td>0.901170</td>\n      <td>5.645053</td>\n      <td>75.260000</td>\n      <td>0.001</td>\n      <td>0.1</td>\n      <td>10</td>\n      <td>cosine</td>\n    </tr>\n    <tr>\n      <th>cjapngmz</th>\n      <td>baseline-swissprot-sot-5-way-5-shot</td>\n      <td>192.907105</td>\n      <td>swissprot</td>\n      <td>baseline</td>\n      <td>True</td>\n      <td>5</td>\n      <td>5</td>\n      <td>1.082008</td>\n      <td>65.633333</td>\n      <td>4.198379</td>\n      <td>...</td>\n      <td>7</td>\n      <td>55.900000</td>\n      <td>13.303632</td>\n      <td>1.064512</td>\n      <td>13.522286</td>\n      <td>67.993333</td>\n      <td>0.001</td>\n      <td>0.1</td>\n      <td>10</td>\n      <td>cosine</td>\n    </tr>\n    <tr>\n      <th>tyclu7ws</th>\n      <td>baseline-swissprot-5-way-5-shot</td>\n      <td>227.742127</td>\n      <td>swissprot</td>\n      <td>baseline</td>\n      <td>False</td>\n      <td>5</td>\n      <td>5</td>\n      <td>0.611742</td>\n      <td>90.733333</td>\n      <td>0.504985</td>\n      <td>...</td>\n      <td>9</td>\n      <td>68.086667</td>\n      <td>11.230575</td>\n      <td>0.898633</td>\n      <td>7.645187</td>\n      <td>78.086667</td>\n      <td>0.001</td>\n      <td>0.1</td>\n      <td>10</td>\n      <td>cosine</td>\n    </tr>\n    <tr>\n      <th>fl25ptmt</th>\n      <td>maml-swissprot-sot-5-way-5-shot</td>\n      <td>160.371191</td>\n      <td>swissprot</td>\n      <td>maml</td>\n      <td>True</td>\n      <td>5</td>\n      <td>5</td>\n      <td>0.166816</td>\n      <td>99.020000</td>\n      <td>0.497151</td>\n      <td>...</td>\n      <td>20</td>\n      <td>97.100000</td>\n      <td>2.729265</td>\n      <td>0.218387</td>\n      <td>2.084770</td>\n      <td>98.266667</td>\n      <td>0.001</td>\n      <td>0.1</td>\n      <td>10</td>\n      <td>cosine</td>\n    </tr>\n    <tr>\n      <th>b9ddy5jb</th>\n      <td>maml-swissprot-5-way-5-shot</td>\n      <td>61.361203</td>\n      <td>swissprot</td>\n      <td>maml</td>\n      <td>False</td>\n      <td>5</td>\n      <td>5</td>\n      <td>1.039781</td>\n      <td>76.273333</td>\n      <td>0.603924</td>\n      <td>...</td>\n      <td>13</td>\n      <td>61.700000</td>\n      <td>11.997465</td>\n      <td>0.959997</td>\n      <td>12.994561</td>\n      <td>73.913333</td>\n      <td>0.001</td>\n      <td>0.1</td>\n      <td>10</td>\n      <td>cosine</td>\n    </tr>\n  </tbody>\n</table>\n<p>5 rows × 22 columns</p>\n</div>"
     },
     "execution_count": 8,
     "metadata": {},
     "output_type": "execute_result"
    }
   ],
   "source": [
    "# Group tuning runs by experiment configuration\n",
    "df_best_runs = utils.get_best_run(df_runs, metric=(\"eval\", \"val/acc\"))\n",
    "print(f\"✅ Filtered to {len(df_best_runs)} best runs.\")\n",
    "\n",
    "# Let's also save two separate dataframes for the two different datasets\n",
    "df_best_runs_tm = df_best_runs[df_best_runs[(\"config\", \"dataset\")] == \"tabula_muris\"]\n",
    "df_best_runs_sp = df_best_runs[df_best_runs[(\"config\", \"dataset\")] == \"swissprot\"]\n",
    "\n",
    "df_best_runs.head()"
   ]
  },
  {
   "cell_type": "code",
   "execution_count": 9,
   "metadata": {
    "ExecuteTime": {
     "end_time": "2023-12-11T14:05:03.031061Z",
     "start_time": "2023-12-11T14:05:02.590329Z"
    }
   },
   "outputs": [
    {
     "ename": "AttributeError",
     "evalue": "'Styler' object has no attribute 'map'",
     "output_type": "error",
     "traceback": [
      "\u001B[0;31m---------------------------------------------------------------------------\u001B[0m",
      "\u001B[0;31mAttributeError\u001B[0m                            Traceback (most recent call last)",
      "Cell \u001B[0;32mIn[9], line 15\u001B[0m\n\u001B[1;32m     12\u001B[0m df_results \u001B[38;5;241m=\u001B[39m pd\u001B[38;5;241m.\u001B[39mconcat([tm_res, sp_res])\n\u001B[1;32m     14\u001B[0m \u001B[38;5;66;03m# Get the latex\u001B[39;00m\n\u001B[0;32m---> 15\u001B[0m latex \u001B[38;5;241m=\u001B[39m \u001B[43mutils\u001B[49m\u001B[38;5;241;43m.\u001B[39;49m\u001B[43mexp2latex\u001B[49m\u001B[43m(\u001B[49m\u001B[43mdf_results\u001B[49m\u001B[43m)\u001B[49m\n\u001B[1;32m     17\u001B[0m \u001B[38;5;66;03m# Save the latex\u001B[39;00m\n\u001B[1;32m     18\u001B[0m \u001B[38;5;28;01mwith\u001B[39;00m \u001B[38;5;28mopen\u001B[39m(os\u001B[38;5;241m.\u001B[39mpath\u001B[38;5;241m.\u001B[39mjoin(TABLE_DIR, \u001B[38;5;124m\"\u001B[39m\u001B[38;5;124mresults.tex\u001B[39m\u001B[38;5;124m\"\u001B[39m), \u001B[38;5;124m\"\u001B[39m\u001B[38;5;124mw\u001B[39m\u001B[38;5;124m\"\u001B[39m) \u001B[38;5;28;01mas\u001B[39;00m f:\n",
      "File \u001B[0;32m~/school/epfl/deeplearning_biomedicine/few-shot-benchmark/notebooks/../utils/eval_utils.py:583\u001B[0m, in \u001B[0;36mexp2latex\u001B[0;34m(df)\u001B[0m\n\u001B[1;32m    572\u001B[0m \u001B[38;5;250m\u001B[39m\u001B[38;5;124;03m\"\"\"\u001B[39;00m\n\u001B[1;32m    573\u001B[0m \u001B[38;5;124;03mConverts the given DataFrame to a latex table.\u001B[39;00m\n\u001B[1;32m    574\u001B[0m \n\u001B[0;32m   (...)\u001B[0m\n\u001B[1;32m    579\u001B[0m \u001B[38;5;124;03m    latex (str): Latex table\u001B[39;00m\n\u001B[1;32m    580\u001B[0m \u001B[38;5;124;03m\"\"\"\u001B[39;00m\n\u001B[1;32m    582\u001B[0m \u001B[38;5;66;03m# Style the results\u001B[39;00m\n\u001B[0;32m--> 583\u001B[0m df_styled \u001B[38;5;241m=\u001B[39m \u001B[43mdf\u001B[49m\u001B[38;5;241;43m.\u001B[39;49m\u001B[43mstyle\u001B[49m\u001B[38;5;241;43m.\u001B[39;49m\u001B[43mformat\u001B[49m\u001B[43m(\u001B[49m\u001B[43mprecision\u001B[49m\u001B[38;5;241;43m=\u001B[39;49m\u001B[38;5;241;43m2\u001B[39;49m\u001B[43m)\u001B[49m\u001B[38;5;241;43m.\u001B[39;49m\u001B[43mmap\u001B[49m(\n\u001B[1;32m    584\u001B[0m     \u001B[38;5;28;01mlambda\u001B[39;00m x: \u001B[38;5;124m\"\u001B[39m\u001B[38;5;124mfont-weight: bold\u001B[39m\u001B[38;5;124m\"\u001B[39m \u001B[38;5;28;01mif\u001B[39;00m x \u001B[38;5;241m>\u001B[39m \u001B[38;5;241m0\u001B[39m \u001B[38;5;28;01melse\u001B[39;00m \u001B[38;5;124m\"\u001B[39m\u001B[38;5;124m\"\u001B[39m, subset\u001B[38;5;241m=\u001B[39m[\u001B[38;5;124m\"\u001B[39m\u001B[38;5;124mDiff\u001B[39m\u001B[38;5;124m\"\u001B[39m]\n\u001B[1;32m    585\u001B[0m )\n\u001B[1;32m    587\u001B[0m \u001B[38;5;66;03m# Convert to latex\u001B[39;00m\n\u001B[1;32m    588\u001B[0m latex \u001B[38;5;241m=\u001B[39m df_styled\u001B[38;5;241m.\u001B[39mto_latex(\n\u001B[1;32m    589\u001B[0m     position\u001B[38;5;241m=\u001B[39m\u001B[38;5;124m\"\u001B[39m\u001B[38;5;124mh\u001B[39m\u001B[38;5;124m\"\u001B[39m,\n\u001B[1;32m    590\u001B[0m     hrules\u001B[38;5;241m=\u001B[39m\u001B[38;5;28;01mTrue\u001B[39;00m,\n\u001B[0;32m   (...)\u001B[0m\n\u001B[1;32m    596\u001B[0m     convert_css\u001B[38;5;241m=\u001B[39m\u001B[38;5;28;01mTrue\u001B[39;00m,\n\u001B[1;32m    597\u001B[0m )\n",
      "\u001B[0;31mAttributeError\u001B[0m: 'Styler' object has no attribute 'map'"
     ]
    }
   ],
   "source": [
    "# Parse the results for both the report\n",
    "tm_res = utils.exp2results(df_best_runs_tm)\n",
    "sp_res = utils.exp2results(df_best_runs_sp)\n",
    "\n",
    "# Create a MultiIndex for the results where the first level is the dataset\n",
    "tm_res = tm_res.set_index(\"Method\")\n",
    "tm_res.index = pd.MultiIndex.from_product([[\"Tabula Muris\"], tm_res.index])\n",
    "sp_res = sp_res.set_index(\"Method\")\n",
    "sp_res.index = pd.MultiIndex.from_product([[\"SwissProt\"], sp_res.index])\n",
    "\n",
    "# Concatenate the results\n",
    "df_results = pd.concat([tm_res, sp_res])\n",
    "\n",
    "# Get the latex\n",
    "latex = utils.exp2latex(df_results)\n",
    "\n",
    "# Save the latex\n",
    "with open(os.path.join(TABLE_DIR, \"results.tex\"), \"w\") as f:\n",
    "    f.write(latex)"
   ]
  },
  {
   "cell_type": "markdown",
   "metadata": {},
   "source": [
    "### Train / Val / Test Performance for all models\n",
    "\n",
    "Here, we plot a simple bar plot for all methods (5 methods, each with and\n",
    "without SOT) on all three splits (train, val, test). Performances are shown in\n",
    "two separate plots for Swissprot and Tabula Muris\n"
   ]
  },
  {
   "cell_type": "code",
   "execution_count": null,
   "metadata": {
    "ExecuteTime": {
     "start_time": "2023-12-11T14:05:03.025367Z"
    }
   },
   "outputs": [],
   "source": [
    "# Performance by split for all methods\n",
    "fig, axs = plt.subplots(nrows=2, figsize=(20, 8))\n",
    "fig.tight_layout(pad=3.0)\n",
    "\n",
    "\n",
    "def pivot_acc(df):\n",
    "    tmp = []\n",
    "    for i, best_model in df.iterrows():\n",
    "        for split in [\"train\", \"val\", \"test\"]:\n",
    "            method_name = get_name(\n",
    "                best_model[(\"config\", \"method\")], best_model[(\"config\", \"use_sot\")]\n",
    "            )\n",
    "            tmp.append(\n",
    "                {\n",
    "                    \"method\": method_name,\n",
    "                    \"split\": split,\n",
    "                    \"acc\": best_model[(\"eval\", f\"{split}/acc\")],\n",
    "                }\n",
    "            )\n",
    "    return pd.DataFrame(tmp)\n",
    "\n",
    "\n",
    "sns.barplot(\n",
    "    pivot_acc(df_best_runs_tm),\n",
    "    x=\"method\",\n",
    "    y=\"acc\",\n",
    "    hue=\"split\",\n",
    "    order=STYLED_METHODS_WITH_SOT,\n",
    "    ax=axs[0],\n",
    ")\n",
    "sns.barplot(\n",
    "    pivot_acc(df_best_runs_sp),\n",
    "    x=\"method\",\n",
    "    y=\"acc\",\n",
    "    hue=\"split\",\n",
    "    order=STYLED_METHODS_WITH_SOT,\n",
    "    ax=axs[1],\n",
    ")\n",
    "# Set title\n",
    "axs[0].set_title(\"Tabula Muris\", fontweight=\"bold\")\n",
    "axs[1].set_title(\"SwissProt\", fontweight=\"bold\")\n",
    "\n",
    "# Disable legend on first subplot\n",
    "axs[0].get_legend().set_title(\"Split\")\n",
    "axs[1].get_legend().remove()\n",
    "\n",
    "for ax in axs:\n",
    "    ax.set_xlabel(\"Method\")\n",
    "    ax.set_ylabel(\"Acc. (%)\")\n",
    "\n",
    "fig.savefig(os.path.join(FIGURE_DIR, \"benchmark-split-perf.pdf\"), bbox_inches=\"tight\")\n",
    "print(f\"✅ Saved figure to {FIGURE_DIR}.\")"
   ]
  },
  {
   "cell_type": "markdown",
   "metadata": {},
   "source": [
    "### Performance by method with and without SOT\n",
    "\n",
    "Here, we compare the performance of the different methods with and without SOT.\n",
    "The left subplot shows the test performance on the Tabula Muris dataset, while\n",
    "the right subplot shows the test performance on the Swissprot dataset.\n"
   ]
  },
  {
   "cell_type": "code",
   "execution_count": null,
   "metadata": {
    "ExecuteTime": {
     "start_time": "2023-12-11T14:05:03.026775Z"
    }
   },
   "outputs": [],
   "source": [
    "# Performance by method with and without SOT\n",
    "fig, axs = plt.subplots(ncols=2, figsize=(20, 5))\n",
    "\n",
    "sns.barplot(\n",
    "    df_best_runs_tm,\n",
    "    x=(\"config\", \"method\"),\n",
    "    y=(\"eval\", \"test/acc\"),\n",
    "    hue=(\"config\", \"use_sot\"),\n",
    "    order=METHODS,\n",
    "    ax=axs[0],\n",
    ")\n",
    "\n",
    "sns.barplot(\n",
    "    df_best_runs_sp,\n",
    "    x=(\"config\", \"method\"),\n",
    "    y=(\"eval\", \"test/acc\"),\n",
    "    hue=(\"config\", \"use_sot\"),\n",
    "    ci=\"sd\",\n",
    "    order=METHODS,\n",
    "    ax=axs[1],\n",
    ")\n",
    "\n",
    "# Set title\n",
    "axs[0].set_title(\"Tabula Muris\", fontweight=\"bold\")\n",
    "axs[1].set_title(\"SwissProt\", fontweight=\"bold\")\n",
    "\n",
    "# Disable legend on first subplot\n",
    "axs[0].get_legend().set_title(\"SOT\")\n",
    "axs[1].get_legend().set_title(\"SOT\")\n",
    "\n",
    "# Set axis labels\n",
    "axs[0].set_xticklabels([get_name(name.get_text()) for name in axs[0].get_xticklabels()])\n",
    "axs[1].set_xticklabels([get_name(name.get_text()) for name in axs[1].get_xticklabels()])\n",
    "\n",
    "for ax in axs:\n",
    "    ax.set_ylabel(\"Test Acc. (%)\")\n",
    "    ax.set_xlabel(\"Method\")\n",
    "\n",
    "# Save figure\n",
    "fig.savefig(os.path.join(FIGURE_DIR, \"benchmark-perf.pdf\"), bbox_inches=\"tight\")\n",
    "print(f\"✅ Saved figure to {FIGURE_DIR}.\")"
   ]
  },
  {
   "cell_type": "markdown",
   "metadata": {},
   "source": [
    "## Experiment 2: Way-Shot Analysis\n",
    "\n",
    "---\n",
    "\n",
    "Varying the number of shots per class.\n"
   ]
  },
  {
   "cell_type": "code",
   "execution_count": null,
   "metadata": {
    "ExecuteTime": {
     "start_time": "2023-12-11T14:05:03.028317Z"
    }
   },
   "outputs": [],
   "source": [
    "# Load experiment data for `way-shot` experiment\n",
    "GROUP = \"tuned-way-shot\"\n",
    "\n",
    "# Filter runs by group\n",
    "group_runs = [run for run in runs if run.group ==\n",
    "              GROUP and run.state == \"finished\"]\n",
    "print(f\"✅ Found {len(group_runs)} runs\")"
   ]
  },
  {
   "cell_type": "code",
   "execution_count": null,
   "metadata": {
    "ExecuteTime": {
     "start_time": "2023-12-11T14:05:03.029875Z"
    }
   },
   "outputs": [],
   "source": [
    "# Load runs into dataframe\n",
    "df_runs = utils.load_to_df(group_runs)\n",
    "print(f\"✅ Loaded {len(df_runs)} runs.\")\n",
    "\n",
    "df_runs.head()"
   ]
  },
  {
   "cell_type": "markdown",
   "metadata": {},
   "source": [
    "Only keep the best run for each experiment configuration. This only has an\n",
    "effect if hyperparameter tuning was performed.\n"
   ]
  },
  {
   "cell_type": "code",
   "execution_count": null,
   "metadata": {
    "ExecuteTime": {
     "end_time": "2023-12-11T14:05:03.032924Z",
     "start_time": "2023-12-11T14:05:03.031549Z"
    }
   },
   "outputs": [],
   "source": [
    "# Group tuning runs by experiment configuration\n",
    "df_best_runs = utils.get_best_run(df_runs, metric=(\"eval\", \"val/acc\"))\n",
    "print(f\"✅ Filtered to {len(df_best_runs)} best runs.\")\n",
    "\n",
    "df_best_runs.head()"
   ]
  },
  {
   "cell_type": "markdown",
   "metadata": {},
   "source": [
    "### Shot-Way-Analysis\n",
    "\n",
    "Display the test/acc as a function of the number of shots per class and the\n",
    "number of classes to distinguish between the different methods for ProtoNet\n",
    "without and with SOT.\n"
   ]
  },
  {
   "cell_type": "code",
   "execution_count": null,
   "metadata": {
    "ExecuteTime": {
     "start_time": "2023-12-11T14:05:03.033046Z"
    }
   },
   "outputs": [],
   "source": [
    "# Plot test/acc vs. n_shot for SOT and non-SOT methods\n",
    "fig, axs = plt.subplots(ncols=2, figsize=(10, 5))\n",
    "\n",
    "# test/acc ~ n_shot\n",
    "sns.scatterplot(\n",
    "    data=df_best_runs,\n",
    "    x=(\"config\", \"n_way\"),\n",
    "    y=(\"eval\", \"test/acc\"),\n",
    "    hue=(\"config\", \"use_sot\"),\n",
    "    alpha=0.25,\n",
    "    ax=axs[0],\n",
    ")\n",
    "sns.lineplot(\n",
    "    data=df_best_runs,\n",
    "    x=(\"config\", \"n_way\"),\n",
    "    y=(\"eval\", \"test/acc\"),\n",
    "    hue=(\"config\", \"use_sot\"),\n",
    "    legend=False,\n",
    "    ax=axs[0],\n",
    ")\n",
    "\n",
    "# test/acc ~ n_way\n",
    "sns.scatterplot(\n",
    "    data=df_best_runs,\n",
    "    x=(\"config\", \"n_shot\"),\n",
    "    y=(\"eval\", \"test/acc\"),\n",
    "    hue=(\"config\", \"use_sot\"),\n",
    "    alpha=0.25,\n",
    "    ax=axs[1],\n",
    ")\n",
    "sns.lineplot(\n",
    "    data=df_best_runs,\n",
    "    x=(\"config\", \"n_shot\"),\n",
    "    y=(\"eval\", \"test/acc\"),\n",
    "    hue=(\"config\", \"use_sot\"),\n",
    "    legend=False,\n",
    "    ax=axs[1],\n",
    ")\n",
    "\n",
    "# Set axis labels\n",
    "axs[0].set_xlabel(\"N-Way\")\n",
    "axs[1].set_xlabel(\"N-Shot\")\n",
    "\n",
    "# Set axis labels\n",
    "axs[0].set_ylabel(\"Val. Acc. (%)\")\n",
    "axs[1].set_ylabel(\"\")\n",
    "\n",
    "# Set legend title\n",
    "axs[0].get_legend().set_title(\"SOT\")\n",
    "axs[1].get_legend().set_title(\"SOT\")\n",
    "\n",
    "# Save figure\n",
    "fig.savefig(os.path.join(FIGURE_DIR, \"way-shot.pdf\"), bbox_inches=\"tight\")\n",
    "print(f\"✅ Saved figure to {FIGURE_DIR}.\")"
   ]
  },
  {
   "cell_type": "markdown",
   "metadata": {},
   "source": [
    "## Experiment 3: SOT Interaction\n",
    "\n",
    "---\n",
    "\n",
    "We found that SOT interacts in an interesting manner with the re-embedding\n",
    "modules in distance-based few-shot learners like `ProtoNet` and `MatchingNet`.\n",
    "In this experiment, we investigate this interaction in more detail. To do this,\n",
    "we trained `MatchingNet` by enabling the SOT and LSTM embedding for support and\n",
    "query samples and observe the performance on the test set.\n"
   ]
  },
  {
   "cell_type": "code",
   "execution_count": null,
   "metadata": {
    "ExecuteTime": {
     "start_time": "2023-12-11T14:05:03.034600Z"
    }
   },
   "outputs": [],
   "source": [
    "# Experiments\n",
    "GROUP = \"sot-interaction\"\n",
    "\n",
    "# Filter runs by group\n",
    "group_runs = {\n",
    "    run.id: run for run in runs if run.group == GROUP and run.state == \"finished\"\n",
    "}\n",
    "print(f\"✅ Loaded {len(group_runs)} runs\")"
   ]
  },
  {
   "cell_type": "code",
   "execution_count": null,
   "metadata": {
    "ExecuteTime": {
     "start_time": "2023-12-11T14:05:03.036007Z"
    }
   },
   "outputs": [],
   "source": [
    "# Load runs into dataframe\n",
    "df_runs = utils.load_to_df(group_runs.values())\n",
    "\n",
    "# Load additional information\n",
    "embed_support = [run.config[\"method\"][\"embed_support\"] for run in group_runs.values()]\n",
    "embed_query = [run.config[\"method\"][\"embed_query\"] for run in group_runs.values()]\n",
    "df_runs[(\"config\", \"embed_support\")] = embed_support\n",
    "df_runs[(\"config\", \"embed_query\")] = embed_query\n",
    "print(f\"✅ Added meta-information.\")"
   ]
  },
  {
   "cell_type": "code",
   "execution_count": null,
   "metadata": {
    "ExecuteTime": {
     "start_time": "2023-12-11T14:05:03.037618Z"
    }
   },
   "outputs": [],
   "source": [
    "# Plot test/acc vs. name\n",
    "fig, ax = plt.subplots(figsize=(20, 5))\n",
    "sns.barplot(\n",
    "    data=df_runs.sort_values(by=(\"eval\", \"test/acc\"), ascending=False),\n",
    "    x=(\"info\", \"name\"),\n",
    "    y=(\"eval\", \"test/acc\"),\n",
    "    palette=\"RdBu\",\n",
    ")\n",
    "ax.set_xlabel(\"Method\")\n",
    "ax.set_ylabel(\"Test Acc. (%)\")\n",
    "\n",
    "# Set axis labels\n",
    "labels = []\n",
    "for exp in [l.get_text().split(\"-\")[1::2] for l in ax.get_xticklabels()]:\n",
    "    name = []\n",
    "    if exp[0] == \"true\":\n",
    "        name.append(\"SOT\")\n",
    "    if exp[1] == \"true\":\n",
    "        name.append(\"SE\")\n",
    "    if exp[2] == \"true\":\n",
    "        name.append(\"QE\")\n",
    "\n",
    "    labels.append(\" + \".join(name))\n",
    "ax.set_xticklabels(labels)\n",
    "\n",
    "# Save figure\n",
    "fig.savefig(os.path.join(FIGURE_DIR, \"sot-interaction.pdf\"),\n",
    "            bbox_inches=\"tight\")\n",
    "print(f\"✅ Saved figure to {FIGURE_DIR}.\")"
   ]
  },
  {
   "cell_type": "code",
   "execution_count": null,
   "metadata": {
    "ExecuteTime": {
     "end_time": "2023-12-11T14:05:03.077225Z",
     "start_time": "2023-12-11T14:05:03.038966Z"
    }
   },
   "outputs": [],
   "source": [
    "# Scatterplot of interaction between support, query and SOT embeddings\n",
    "fig, ax = plt.subplots(figsize=(5, 5))\n",
    "sns.scatterplot(\n",
    "    df_runs,\n",
    "    x=(\"config\", \"embed_support\"),\n",
    "    y=(\"config\", \"embed_query\"),\n",
    "    hue=(\"config\", \"use_sot\"),\n",
    "    size=(\"eval\", \"test/acc\"),\n",
    "    sizes=(100, 5000),\n",
    "    linewidth=0,\n",
    ")\n",
    "ax.set_xlim(-0.5, 1.5)\n",
    "ax.set_ylim(-0.5, 1.5)\n",
    "ax.set_xticks([0, 1])\n",
    "ax.set_yticks([0, 1])\n",
    "ax.set_xticklabels([\"No\", \"Yes\"])\n",
    "ax.set_yticklabels([\"No\", \"Yes\"])\n",
    "ax.set(\n",
    "    xlabel=\"Embed Support\",\n",
    "    ylabel=\"Embed Query\",\n",
    ")\n",
    "ax.legend().remove()"
   ]
  },
  {
   "cell_type": "code",
   "execution_count": null,
   "metadata": {
    "ExecuteTime": {
     "start_time": "2023-12-11T14:05:03.040200Z"
    }
   },
   "outputs": [],
   "source": [
    "def is_interaction(row):\n",
    "    support, query, sot = (\n",
    "        row[(\"config\", \"embed_support\")],\n",
    "        row[(\"config\", \"embed_query\")],\n",
    "        row[(\"config\", \"use_sot\")],\n",
    "    )\n",
    "    if (support | query) & sot:\n",
    "        return True\n",
    "    else:\n",
    "        return False\n",
    "\n",
    "\n",
    "df_runs[(\"config\", \"interaction\")] = df_runs.apply(is_interaction, axis=1)\n",
    "\n",
    "fig, ax = plt.subplots(figsize=(5, 5))\n",
    "sns.barplot(\n",
    "    df_runs,\n",
    "    x=(\"config\", \"interaction\"),\n",
    "    y=(\"eval\", \"test/acc\"),\n",
    "    ax=ax,\n",
    ")\n",
    "ax.scatter(\n",
    "    x=df_runs[(\"config\", \"interaction\")],\n",
    "    y=df_runs[(\"eval\", \"test/acc\")],\n",
    "    c=\"black\",\n",
    "    alpha=1,\n",
    "    marker=\"x\",\n",
    "    zorder=100,\n",
    ")\n",
    "\n",
    "ax.set_xticklabels([\"No\", \"Yes\"])\n",
    "ax.set_xlabel(\"Interaction\")\n",
    "ax.set_ylabel(\"Test Acc. (%)\")\n",
    "\n",
    "# Save figure\n",
    "fig.savefig(os.path.join(FIGURE_DIR, \"sot-interaction-2.pdf\"), bbox_inches=\"tight\")\n",
    "print(f\"✅ Saved figure to {FIGURE_DIR}.\")"
   ]
  },
  {
   "cell_type": "markdown",
   "metadata": {},
   "source": [
    "## Experiment 4: Understanding model performance\n",
    "\n",
    "---\n",
    "\n",
    "The goal of this section will be to compare the improvements of the SOT feature\n",
    "transform. We will try to understand the improvements by looking at:\n",
    "\n",
    "- **Embeddings during forward-pass**. Visualise the embeddings of support and\n",
    "  query samples during episodes with and without SOT enabled.\n",
    "- **Visualise the self-optimal transport plan.** Visualise the self-optimal\n",
    "  transport plan for a few episodes via a heat map.\n",
    "- **Understand model prediction patterns and errors.** Visualise the model\n",
    "  predictions and errors for a few episodes with and without SOT enabled.\n",
    "\n",
    "To get started, we will load two pre-trained models from the benchmarking\n",
    "experiment. We will use two instances of `protonet` that were both trained on\n",
    "the `tabula_muris` dataset. The first model was trained with the default\n",
    "configuration, while the second model was trained with the same configuration\n",
    "but with the `use_sot` flag set to `True`.\n"
   ]
  },
  {
   "cell_type": "code",
   "execution_count": null,
   "metadata": {
    "ExecuteTime": {
     "start_time": "2023-12-11T14:05:03.041139Z"
    }
   },
   "outputs": [],
   "source": [
    "# Experiments\n",
    "GROUP = \"model-behaviour\"\n",
    "\n",
    "# Filter runs by group\n",
    "runs = [run for run in runs if run.group == GROUP and run.state == \"finished\"]\n",
    "print(f\"✅ Loaded {len(runs)} runs\")\n",
    "\n",
    "# Load runs into dataframe\n",
    "df_runs = utils.load_to_df(runs)\n",
    "\n",
    "df_runs.head()"
   ]
  },
  {
   "cell_type": "code",
   "execution_count": null,
   "metadata": {
    "ExecuteTime": {
     "start_time": "2023-12-11T14:05:03.042125Z"
    }
   },
   "outputs": [],
   "source": [
    "# Initialise data loaders and model\n",
    "models = []\n",
    "for run in runs:\n",
    "    # Load data loaders and model\n",
    "    train_loader, val_loader, test_loader, model = utils.init_all(run)\n",
    "    models.append(model)\n",
    "\n",
    "print(f\"✅ Initialised data loader and model.\")"
   ]
  },
  {
   "cell_type": "code",
   "execution_count": null,
   "metadata": {
    "ExecuteTime": {
     "start_time": "2023-12-11T14:05:03.043069Z"
    }
   },
   "outputs": [],
   "source": [
    "# Download artifact (model weights)\n",
    "for run in runs:\n",
    "    utils.download_artifact(\n",
    "        api,\n",
    "        wandb_entity=WANDB_ENTITY,\n",
    "        wandb_project=WANDB_PROJECT,\n",
    "        artifact_dir=ARTIFACT_DIR,\n",
    "        run_id=run.id,\n",
    "    )"
   ]
  },
  {
   "cell_type": "code",
   "execution_count": null,
   "metadata": {
    "ExecuteTime": {
     "start_time": "2023-12-11T14:05:03.044010Z"
    }
   },
   "outputs": [],
   "source": [
    "# Load model weights\n",
    "weight_path = os.path.join(ARTIFACT_DIR, runs[0].id, \"best_model.pt\")\n",
    "models[0].load_state_dict(torch.load(weight_path))\n",
    "\n",
    "weight_path = os.path.join(ARTIFACT_DIR, runs[1].id, \"best_model.pt\")\n",
    "models[1].load_state_dict(torch.load(weight_path))\n",
    "\n",
    "print(f\"✅ Loaded both model weights.\")"
   ]
  },
  {
   "cell_type": "code",
   "execution_count": null,
   "metadata": {
    "ExecuteTime": {
     "start_time": "2023-12-11T14:05:03.045066Z"
    }
   },
   "outputs": [],
   "source": [
    "# Evaluate performance\n",
    "print(\"Evaluating model with SOT...\")\n",
    "models[0].test_loop(train_loader)\n",
    "models[0].test_loop(val_loader)\n",
    "models[0].test_loop(test_loader)\n",
    "\n",
    "print(\"\\nEvaluating model without SOT...\")\n",
    "models[1].test_loop(train_loader)\n",
    "models[1].test_loop(val_loader)\n",
    "models[1].test_loop(test_loader)\n",
    "\n",
    "print(f\"✅ Evaluated both models.\")"
   ]
  },
  {
   "cell_type": "markdown",
   "metadata": {},
   "source": [
    "We have correctly loaded the model weights by confirming the performance on the\n",
    "`train`, `val` and `test` split for ProtoNet on SwissProt with and without SOT.\n"
   ]
  },
  {
   "cell_type": "markdown",
   "metadata": {},
   "source": [
    "### Visualise Embeddings\n"
   ]
  },
  {
   "cell_type": "code",
   "execution_count": null,
   "metadata": {
    "ExecuteTime": {
     "start_time": "2023-12-11T14:05:03.045954Z"
    }
   },
   "outputs": [],
   "source": [
    "# Visualise episode for Protnet w/ SOT\n",
    "for loader in [train_loader, val_loader, test_loader]:\n",
    "    utils.visualise_episode(train_loader, models[0])"
   ]
  },
  {
   "cell_type": "code",
   "execution_count": null,
   "metadata": {
    "ExecuteTime": {
     "start_time": "2023-12-11T14:05:03.046829Z"
    }
   },
   "outputs": [],
   "source": [
    "# Visualise episode for Protnet w/ SOT\n",
    "for loader in [train_loader, val_loader, test_loader]:\n",
    "    utils.visualise_episode(train_loader, models[1])"
   ]
  },
  {
   "cell_type": "markdown",
   "metadata": {},
   "source": [
    "### Visualise SOT transport plan\n",
    "\n",
    "Here we visualise the self-optimal transport plan for a few episodes.\n"
   ]
  },
  {
   "cell_type": "code",
   "execution_count": null,
   "metadata": {
    "ExecuteTime": {
     "start_time": "2023-12-11T14:05:03.047715Z"
    }
   },
   "outputs": [],
   "source": [
    "# Visualise transport plan for Protonet w/ SOT on train\n",
    "fig, axs = plt.subplots(ncols=3, figsize=(20, 5))\n",
    "for ax, loader in zip(axs, [train_loader, val_loader, test_loader]):\n",
    "    utils.visualise_transport_plan(train_loader, models[0], ax=ax)"
   ]
  },
  {
   "cell_type": "markdown",
   "metadata": {},
   "source": [
    "### Visualise confusion patterns\n"
   ]
  },
  {
   "cell_type": "code",
   "execution_count": null,
   "metadata": {
    "ExecuteTime": {
     "start_time": "2023-12-11T14:05:03.048603Z"
    }
   },
   "outputs": [],
   "source": [
    "# Confusion matrix for Protonet w/ SOT on all splits\n",
    "fig, axs = plt.subplots(ncols=3, figsize=(20, 5))\n",
    "for ax, loader in zip(axs, [train_loader, val_loader, test_loader]):\n",
    "    utils.visualise_confusion_matrix(loader, models[0], ax=ax)"
   ]
  },
  {
   "cell_type": "code",
   "execution_count": null,
   "metadata": {
    "ExecuteTime": {
     "start_time": "2023-12-11T14:05:03.049573Z"
    }
   },
   "outputs": [],
   "source": [
    "# Confusion matrix for Protonet w/o SOT on all splits\n",
    "fig, axs = plt.subplots(ncols=3, figsize=(20, 5))\n",
    "for ax, loader in zip(axs, [train_loader, val_loader, test_loader]):\n",
    "    utils.visualise_confusion_matrix(loader, models[1], ax=ax)"
   ]
  }
 ],
 "metadata": {
  "kernelspec": {
   "display_name": "few-shot-benchmark",
   "language": "python",
   "name": "python3"
  },
  "language_info": {
   "codemirror_mode": {
    "name": "ipython",
    "version": 3
   },
   "file_extension": ".py",
   "mimetype": "text/x-python",
   "name": "python",
   "nbconvert_exporter": "python",
   "pygments_lexer": "ipython3",
   "version": "3.10.10"
  }
 },
 "nbformat": 4,
 "nbformat_minor": 2
}
